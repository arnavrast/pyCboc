{
  "nbformat": 4,
  "nbformat_minor": 0,
  "metadata": {
    "colab": {
      "name": "Copy of Santander_Value_Prediction.ipynb",
      "provenance": [],
      "authorship_tag": "ABX9TyN0qNeeGHPuMgj8HKP4CjAX",
      "include_colab_link": true
    },
    "kernelspec": {
      "display_name": "Python 3",
      "name": "python3"
    },
    "language_info": {
      "name": "python"
    }
  },
  "cells": [
    {
      "cell_type": "markdown",
      "metadata": {
        "id": "view-in-github",
        "colab_type": "text"
      },
      "source": [
        "<a href=\"https://colab.research.google.com/github/arnavrast/pyCboc/blob/master/Santander_Value_Prediction.ipynb\" target=\"_parent\"><img src=\"https://colab.research.google.com/assets/colab-badge.svg\" alt=\"Open In Colab\"/></a>"
      ]
    },
    {
      "cell_type": "markdown",
      "metadata": {
        "id": "__avoxhPu6MN"
      },
      "source": [
        "# Prerequisites"
      ]
    },
    {
      "cell_type": "code",
      "metadata": {
        "id": "3MJ3XVHko-TH",
        "outputId": "8eccd0c1-0cb4-408d-e5fd-b6f8cfe85568",
        "colab": {
          "resources": {
            "http://localhost:8080/nbextensions/google.colab/files.js": {
              "data": "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",
              "ok": true,
              "headers": [
                [
                  "content-type",
                  "application/javascript"
                ]
              ],
              "status": 200,
              "status_text": ""
            }
          },
          "base_uri": "https://localhost:8080/",
          "height": 194
        }
      },
      "source": [
        "#!pip install kaggle\n",
        "!pip install scikit-learn==0.23.1\n",
        "!pip install scikit-optimize\n",
        "!pip install pymrmre\n",
        "!mkdir $HOME/.kaggle\n",
        "from google.colab import files\n",
        "uploaded = files.upload()"
      ],
      "execution_count": 1,
      "outputs": [
        {
          "output_type": "stream",
          "text": [
            "  Building wheel for pymrmre (setup.py) ... \u001b[?25l\u001b[?25hdone\n",
            "  Created wheel for pymrmre: filename=pymrmre-1.0.7-cp37-cp37m-linux_x86_64.whl size=323703 sha256=0c7268ada96b9a9e59f4ffa220defaa37533040e4057a659d444a306bf6180d6\n",
            "  Stored in directory: /root/.cache/pip/wheels/53/c5/4d/b63d3519b91ebfc798ad7e11886e887eed7ebb123d854147d5\n",
            "Successfully built pymrmre\n",
            "Installing collected packages: pymrmre\n",
            "Successfully installed pymrmre-1.0.7\n"
          ],
          "name": "stdout"
        },
        {
          "output_type": "display_data",
          "data": {
            "text/html": [
              "\n",
              "     <input type=\"file\" id=\"files-56ea7532-9653-4b4e-b4fc-1aca857da12e\" name=\"files[]\" multiple disabled\n",
              "        style=\"border:none\" />\n",
              "     <output id=\"result-56ea7532-9653-4b4e-b4fc-1aca857da12e\">\n",
              "      Upload widget is only available when the cell has been executed in the\n",
              "      current browser session. Please rerun this cell to enable.\n",
              "      </output>\n",
              "      <script src=\"/nbextensions/google.colab/files.js\"></script> "
            ],
            "text/plain": [
              "<IPython.core.display.HTML object>"
            ]
          },
          "metadata": {
            "tags": []
          }
        },
        {
          "output_type": "stream",
          "text": [
            "Saving kaggle.json to kaggle.json\n"
          ],
          "name": "stdout"
        }
      ]
    },
    {
      "cell_type": "code",
      "metadata": {
        "id": "gtj815-MtrES",
        "colab": {
          "base_uri": "https://localhost:8080/"
        },
        "outputId": "783e39ba-8a22-4d2d-b0ea-60612fa069cd"
      },
      "source": [
        "!mv kaggle.json $HOME/.kaggle/kaggle.json\n",
        "!chmod 600 $HOME/.kaggle/kaggle.json\n",
        "for fn in uploaded.keys():\n",
        "  print('User uploaded file \"{name}\" with length {length} bytes'.format(\n",
        "      name=fn, length=len(uploaded[fn])))\n",
        "!kaggle competitions download -c santander-value-prediction-challenge"
      ],
      "execution_count": 2,
      "outputs": [
        {
          "output_type": "stream",
          "text": [
            "User uploaded file \"kaggle.json\" with length 69 bytes\n",
            "Warning: Looks like you're using an outdated API Version, please consider updating (server 1.5.12 / client 1.5.4)\n",
            "Downloading train.csv.zip to /content\n",
            " 72% 5.00M/6.95M [00:00<00:00, 33.3MB/s]\n",
            "100% 6.95M/6.95M [00:00<00:00, 34.1MB/s]\n",
            "Downloading sample_submission.csv.zip to /content\n",
            "  0% 0.00/266k [00:00<?, ?B/s]\n",
            "100% 266k/266k [00:00<00:00, 106MB/s]\n",
            "Downloading test.csv.zip to /content\n",
            " 70% 17.0M/24.2M [00:00<00:00, 42.7MB/s]\n",
            "100% 24.2M/24.2M [00:00<00:00, 54.7MB/s]\n"
          ],
          "name": "stdout"
        }
      ]
    },
    {
      "cell_type": "markdown",
      "metadata": {
        "id": "aZyQ3qrlv50I"
      },
      "source": [
        "# **The Challenge**\n"
      ]
    },
    {
      "cell_type": "markdown",
      "metadata": {
        "id": "mbGuUEZLyg_x"
      },
      "source": [
        "According to Epsilon research, 80% of customers are more likely to do business with you if you provide personalized service. Banking is no exception.\n",
        "\n",
        "The digitalization of everyday lives means that customers expect services to be delivered in a personalized and timely manner… and often before they´ve even realized they need the service. In their 3rd Kaggle competition, Santander Group aims to go a step beyond recognizing that there is a need to provide a customer a financial service and intends to determine the amount or value of the customer's transaction. This means anticipating customer needs in a more concrete, but also simple and personal way. With so many choices for financial services, this need is greater now than ever before.\n",
        "\n",
        "In this competition, Santander Group is asking Kagglers to help them identify the value of transactions for each potential customer. This is a first step that Santander needs to nail in order to personalize their services at scale.\n",
        "The evaluation metric for this competition is Root Mean Squared Logarithmic Error.\n",
        "\n",
        "The RMSLE is calculated as\n",
        "\n",
        "$$\\epsilon=\\sqrt{\\frac{1}{n}\\sum_{i=1}^{n}[log(p_i+1)-log(a_i+1)]^2}$$\n",
        "Where:\n",
        "\n",
        "\\\\(\\epsilon\\\\) is the RMSLE value (score)\n",
        "\n",
        "\\\\(n\\\\) is the total number of observations in the (public/private) data set,\n",
        "\n",
        "\\\\(p_i\\\\) is your prediction of target, and\n",
        "\n",
        "\\\\(a_i\\\\) is the actual target for \\\\(i\\\\).\n",
        "\n",
        "\\\\(\\log(x)\\\\) is the natural logarithm of \\\\(x\\\\)"
      ]
    },
    {
      "cell_type": "code",
      "metadata": {
        "id": "KfvWPC_5vXlA"
      },
      "source": [
        "import numpy as np\n",
        "import pandas as pd\n",
        "import matplotlib.pyplot as plt\n",
        "%matplotlib inline\n",
        "import seaborn as sns\n",
        "from scipy.sparse import csr_matrix\n",
        "\n",
        "from skopt import BayesSearchCV\n",
        "from skopt.space import Real, Categorical, Integer\n",
        "\n",
        "from sklearn import random_projection\n",
        "from lightgbm import LGBMRegressor\n",
        "from sklearn.preprocessing import FunctionTransformer,MinMaxScaler\n",
        "from sklearn.feature_selection import SelectKBest,f_regression,mutual_info_regression\n",
        "from sklearn.metrics import make_scorer,mean_squared_error\n",
        "from pymrmre import mrmr\n",
        "\n",
        "import gc\n",
        "import warnings\n",
        "warnings.filterwarnings('ignore')\n",
        "pd.options.display.float_format = '{:.2f}'.format\n",
        "\n",
        "from IPython.core.interactiveshell import InteractiveShell\n",
        "from IPython.display import *\n",
        "InteractiveShell.ast_node_interactivity = \"all\""
      ],
      "execution_count": 3,
      "outputs": []
    },
    {
      "cell_type": "code",
      "metadata": {
        "id": "OTU_UXRJyl_i"
      },
      "source": [
        "train= pd.read_csv('/content/train.csv.zip')"
      ],
      "execution_count": 4,
      "outputs": []
    },
    {
      "cell_type": "code",
      "metadata": {
        "colab": {
          "base_uri": "https://localhost:8080/",
          "height": 0
        },
        "id": "G-eE_6rYy0Am",
        "outputId": "903172f9-9f67-4786-d5fd-3ca356ce24c4"
      },
      "source": [
        "print('\\n Shape = ',train.shape) #,test.shape\n",
        "train.info()\n",
        "train.describe()"
      ],
      "execution_count": 5,
      "outputs": [
        {
          "output_type": "stream",
          "text": [
            "\n",
            " Shape =  (4459, 4993)\n",
            "<class 'pandas.core.frame.DataFrame'>\n",
            "RangeIndex: 4459 entries, 0 to 4458\n",
            "Columns: 4993 entries, ID to 9fc776466\n",
            "dtypes: float64(1845), int64(3147), object(1)\n",
            "memory usage: 169.9+ MB\n"
          ],
          "name": "stdout"
        },
        {
          "output_type": "execute_result",
          "data": {
            "text/html": [
              "<div>\n",
              "<style scoped>\n",
              "    .dataframe tbody tr th:only-of-type {\n",
              "        vertical-align: middle;\n",
              "    }\n",
              "\n",
              "    .dataframe tbody tr th {\n",
              "        vertical-align: top;\n",
              "    }\n",
              "\n",
              "    .dataframe thead th {\n",
              "        text-align: right;\n",
              "    }\n",
              "</style>\n",
              "<table border=\"1\" class=\"dataframe\">\n",
              "  <thead>\n",
              "    <tr style=\"text-align: right;\">\n",
              "      <th></th>\n",
              "      <th>target</th>\n",
              "      <th>48df886f9</th>\n",
              "      <th>0deb4b6a8</th>\n",
              "      <th>34b15f335</th>\n",
              "      <th>a8cb14b00</th>\n",
              "      <th>2f0771a37</th>\n",
              "      <th>30347e683</th>\n",
              "      <th>d08d1fbe3</th>\n",
              "      <th>6ee66e115</th>\n",
              "      <th>20aa07010</th>\n",
              "      <th>dc5a8f1d8</th>\n",
              "      <th>11d86fa6a</th>\n",
              "      <th>77c9823f2</th>\n",
              "      <th>8d6c2a0b2</th>\n",
              "      <th>4681de4fd</th>\n",
              "      <th>adf119b9a</th>\n",
              "      <th>cff75dd09</th>\n",
              "      <th>96f83a237</th>\n",
              "      <th>b8a716ebf</th>\n",
              "      <th>6c7a4567c</th>\n",
              "      <th>4fcfd2b4d</th>\n",
              "      <th>f3b9c0b95</th>\n",
              "      <th>71cebf11c</th>\n",
              "      <th>d966ac62c</th>\n",
              "      <th>68b647452</th>\n",
              "      <th>c88d108c9</th>\n",
              "      <th>ff7b471cd</th>\n",
              "      <th>d5308d8bc</th>\n",
              "      <th>0d866c3d7</th>\n",
              "      <th>bc3f77679</th>\n",
              "      <th>bd8f989f1</th>\n",
              "      <th>0eff5bf95</th>\n",
              "      <th>22ed6dba3</th>\n",
              "      <th>92b13ebba</th>\n",
              "      <th>c330f1a67</th>\n",
              "      <th>233c7c17c</th>\n",
              "      <th>2cb4d123e</th>\n",
              "      <th>eeac16933</th>\n",
              "      <th>87ffda550</th>\n",
              "      <th>822e49b95</th>\n",
              "      <th>...</th>\n",
              "      <th>969caa87a</th>\n",
              "      <th>00302fe51</th>\n",
              "      <th>1189ee335</th>\n",
              "      <th>ca04a07ca</th>\n",
              "      <th>f6f15ffa5</th>\n",
              "      <th>841704460</th>\n",
              "      <th>ea5ed6ff7</th>\n",
              "      <th>b1bb8eac3</th>\n",
              "      <th>8132d18b8</th>\n",
              "      <th>c24ea6548</th>\n",
              "      <th>cdfc2b069</th>\n",
              "      <th>2a879b4f7</th>\n",
              "      <th>6b119d8ce</th>\n",
              "      <th>98dea9e42</th>\n",
              "      <th>9f2471031</th>\n",
              "      <th>88458cb21</th>\n",
              "      <th>f40da20f4</th>\n",
              "      <th>7ad6b38bd</th>\n",
              "      <th>c901e7df1</th>\n",
              "      <th>8f55955dc</th>\n",
              "      <th>85dcc913d</th>\n",
              "      <th>5ca0b9b0c</th>\n",
              "      <th>eab8abf7a</th>\n",
              "      <th>8d8bffbae</th>\n",
              "      <th>2a1f6c7f9</th>\n",
              "      <th>9437d8b64</th>\n",
              "      <th>5831f4c76</th>\n",
              "      <th>2e84e09c5</th>\n",
              "      <th>d45fd5508</th>\n",
              "      <th>a165f5761</th>\n",
              "      <th>3ecc09859</th>\n",
              "      <th>9281abeea</th>\n",
              "      <th>8675bec0b</th>\n",
              "      <th>3a13ed79a</th>\n",
              "      <th>f677d4d13</th>\n",
              "      <th>71b203550</th>\n",
              "      <th>137efaa80</th>\n",
              "      <th>fb36b89d9</th>\n",
              "      <th>7e293fbaf</th>\n",
              "      <th>9fc776466</th>\n",
              "    </tr>\n",
              "  </thead>\n",
              "  <tbody>\n",
              "    <tr>\n",
              "      <th>count</th>\n",
              "      <td>4459.00</td>\n",
              "      <td>4459.00</td>\n",
              "      <td>4459.00</td>\n",
              "      <td>4459.00</td>\n",
              "      <td>4459.00</td>\n",
              "      <td>4459.00</td>\n",
              "      <td>4459.00</td>\n",
              "      <td>4459.00</td>\n",
              "      <td>4459.00</td>\n",
              "      <td>4459.00</td>\n",
              "      <td>4459.00</td>\n",
              "      <td>4459.00</td>\n",
              "      <td>4459.00</td>\n",
              "      <td>4459.00</td>\n",
              "      <td>4459.00</td>\n",
              "      <td>4459.00</td>\n",
              "      <td>4459.00</td>\n",
              "      <td>4459.00</td>\n",
              "      <td>4459.00</td>\n",
              "      <td>4459.00</td>\n",
              "      <td>4459.00</td>\n",
              "      <td>4459.00</td>\n",
              "      <td>4459.00</td>\n",
              "      <td>4459.00</td>\n",
              "      <td>4459.00</td>\n",
              "      <td>4459.00</td>\n",
              "      <td>4459.00</td>\n",
              "      <td>4459.00</td>\n",
              "      <td>4459.00</td>\n",
              "      <td>4459.00</td>\n",
              "      <td>4459.00</td>\n",
              "      <td>4459.00</td>\n",
              "      <td>4459.00</td>\n",
              "      <td>4459.00</td>\n",
              "      <td>4459.00</td>\n",
              "      <td>4459.00</td>\n",
              "      <td>4459.00</td>\n",
              "      <td>4459.00</td>\n",
              "      <td>4459.00</td>\n",
              "      <td>4459.00</td>\n",
              "      <td>...</td>\n",
              "      <td>4459.00</td>\n",
              "      <td>4459.00</td>\n",
              "      <td>4459.00</td>\n",
              "      <td>4459.00</td>\n",
              "      <td>4459.00</td>\n",
              "      <td>4459.00</td>\n",
              "      <td>4459.00</td>\n",
              "      <td>4459.00</td>\n",
              "      <td>4459.00</td>\n",
              "      <td>4459.00</td>\n",
              "      <td>4459.00</td>\n",
              "      <td>4459.00</td>\n",
              "      <td>4459.00</td>\n",
              "      <td>4459.00</td>\n",
              "      <td>4459.00</td>\n",
              "      <td>4459.00</td>\n",
              "      <td>4459.00</td>\n",
              "      <td>4459.00</td>\n",
              "      <td>4459.00</td>\n",
              "      <td>4459.00</td>\n",
              "      <td>4459.00</td>\n",
              "      <td>4459.00</td>\n",
              "      <td>4459.00</td>\n",
              "      <td>4459.00</td>\n",
              "      <td>4459.00</td>\n",
              "      <td>4459.00</td>\n",
              "      <td>4459.00</td>\n",
              "      <td>4459.00</td>\n",
              "      <td>4459.00</td>\n",
              "      <td>4459.00</td>\n",
              "      <td>4459.00</td>\n",
              "      <td>4459.00</td>\n",
              "      <td>4459.00</td>\n",
              "      <td>4459.00</td>\n",
              "      <td>4459.00</td>\n",
              "      <td>4459.00</td>\n",
              "      <td>4459.00</td>\n",
              "      <td>4459.00</td>\n",
              "      <td>4459.00</td>\n",
              "      <td>4459.00</td>\n",
              "    </tr>\n",
              "    <tr>\n",
              "      <th>mean</th>\n",
              "      <td>5944923.32</td>\n",
              "      <td>14654.93</td>\n",
              "      <td>1390.89</td>\n",
              "      <td>26722.45</td>\n",
              "      <td>4530.16</td>\n",
              "      <td>26409.96</td>\n",
              "      <td>30708.11</td>\n",
              "      <td>16865.22</td>\n",
              "      <td>4669.21</td>\n",
              "      <td>2569407.37</td>\n",
              "      <td>155215.84</td>\n",
              "      <td>195050.00</td>\n",
              "      <td>8.52</td>\n",
              "      <td>3595.87</td>\n",
              "      <td>2258014.80</td>\n",
              "      <td>268084.32</td>\n",
              "      <td>45882.55</td>\n",
              "      <td>44514.78</td>\n",
              "      <td>396896.09</td>\n",
              "      <td>28831.29</td>\n",
              "      <td>1940.79</td>\n",
              "      <td>448384.09</td>\n",
              "      <td>79897.29</td>\n",
              "      <td>154839.43</td>\n",
              "      <td>112825.36</td>\n",
              "      <td>114832.92</td>\n",
              "      <td>3377.44</td>\n",
              "      <td>0.00</td>\n",
              "      <td>379413.01</td>\n",
              "      <td>120224.71</td>\n",
              "      <td>742646.40</td>\n",
              "      <td>4994.84</td>\n",
              "      <td>1725258.22</td>\n",
              "      <td>194188.17</td>\n",
              "      <td>0.00</td>\n",
              "      <td>93383.27</td>\n",
              "      <td>629689.62</td>\n",
              "      <td>0.00</td>\n",
              "      <td>1249545.29</td>\n",
              "      <td>1200041.53</td>\n",
              "      <td>...</td>\n",
              "      <td>2412.20</td>\n",
              "      <td>376758.91</td>\n",
              "      <td>666947.78</td>\n",
              "      <td>42819.49</td>\n",
              "      <td>6.28</td>\n",
              "      <td>140911.19</td>\n",
              "      <td>236477.99</td>\n",
              "      <td>762748.51</td>\n",
              "      <td>675263.96</td>\n",
              "      <td>542865.36</td>\n",
              "      <td>777697.87</td>\n",
              "      <td>100485.12</td>\n",
              "      <td>382502.49</td>\n",
              "      <td>2539.58</td>\n",
              "      <td>3767.66</td>\n",
              "      <td>41538.91</td>\n",
              "      <td>70412.24</td>\n",
              "      <td>96485.62</td>\n",
              "      <td>975124.02</td>\n",
              "      <td>29109.67</td>\n",
              "      <td>75998.02</td>\n",
              "      <td>3588.25</td>\n",
              "      <td>179601.61</td>\n",
              "      <td>530280.99</td>\n",
              "      <td>237739.63</td>\n",
              "      <td>1183135.48</td>\n",
              "      <td>1247793.15</td>\n",
              "      <td>986.77</td>\n",
              "      <td>61650.15</td>\n",
              "      <td>128949.46</td>\n",
              "      <td>467605.70</td>\n",
              "      <td>444623.94</td>\n",
              "      <td>805621.95</td>\n",
              "      <td>781296.64</td>\n",
              "      <td>143.53</td>\n",
              "      <td>121380.93</td>\n",
              "      <td>35734.51</td>\n",
              "      <td>312374.07</td>\n",
              "      <td>92199.60</td>\n",
              "      <td>227909.96</td>\n",
              "    </tr>\n",
              "    <tr>\n",
              "      <th>std</th>\n",
              "      <td>8234311.50</td>\n",
              "      <td>389329.81</td>\n",
              "      <td>64283.02</td>\n",
              "      <td>569965.18</td>\n",
              "      <td>235912.41</td>\n",
              "      <td>1514730.15</td>\n",
              "      <td>577058.97</td>\n",
              "      <td>751275.59</td>\n",
              "      <td>187944.89</td>\n",
              "      <td>9610183.07</td>\n",
              "      <td>1587814.71</td>\n",
              "      <td>2397372.09</td>\n",
              "      <td>569.07</td>\n",
              "      <td>124543.50</td>\n",
              "      <td>15522980.13</td>\n",
              "      <td>3026909.74</td>\n",
              "      <td>814067.36</td>\n",
              "      <td>1354504.11</td>\n",
              "      <td>3238242.60</td>\n",
              "      <td>570538.76</td>\n",
              "      <td>27860.22</td>\n",
              "      <td>6370643.86</td>\n",
              "      <td>2846439.90</td>\n",
              "      <td>2425793.87</td>\n",
              "      <td>1161274.59</td>\n",
              "      <td>2747534.58</td>\n",
              "      <td>131383.85</td>\n",
              "      <td>0.00</td>\n",
              "      <td>3561409.05</td>\n",
              "      <td>4867502.88</td>\n",
              "      <td>3799941.04</td>\n",
              "      <td>186866.36</td>\n",
              "      <td>9034308.14</td>\n",
              "      <td>1481349.06</td>\n",
              "      <td>0.00</td>\n",
              "      <td>854776.37</td>\n",
              "      <td>6956379.91</td>\n",
              "      <td>0.00</td>\n",
              "      <td>7361172.67</td>\n",
              "      <td>8113234.07</td>\n",
              "      <td>...</td>\n",
              "      <td>149858.56</td>\n",
              "      <td>7755050.84</td>\n",
              "      <td>6261372.65</td>\n",
              "      <td>547336.96</td>\n",
              "      <td>322.56</td>\n",
              "      <td>2052878.49</td>\n",
              "      <td>1533061.99</td>\n",
              "      <td>5816721.55</td>\n",
              "      <td>7444468.36</td>\n",
              "      <td>4250171.64</td>\n",
              "      <td>4287642.81</td>\n",
              "      <td>915006.75</td>\n",
              "      <td>2799847.78</td>\n",
              "      <td>150868.32</td>\n",
              "      <td>251588.36</td>\n",
              "      <td>1179500.40</td>\n",
              "      <td>2810829.54</td>\n",
              "      <td>1114863.17</td>\n",
              "      <td>9750283.16</td>\n",
              "      <td>791206.38</td>\n",
              "      <td>1206580.86</td>\n",
              "      <td>239607.96</td>\n",
              "      <td>1660884.12</td>\n",
              "      <td>4497566.80</td>\n",
              "      <td>4109064.67</td>\n",
              "      <td>11394925.26</td>\n",
              "      <td>6878894.51</td>\n",
              "      <td>65892.19</td>\n",
              "      <td>2124731.41</td>\n",
              "      <td>1335938.24</td>\n",
              "      <td>4068037.55</td>\n",
              "      <td>4428889.45</td>\n",
              "      <td>4513245.79</td>\n",
              "      <td>6839450.76</td>\n",
              "      <td>9584.32</td>\n",
              "      <td>4720708.53</td>\n",
              "      <td>1614622.20</td>\n",
              "      <td>4318500.71</td>\n",
              "      <td>1635993.43</td>\n",
              "      <td>1811139.28</td>\n",
              "    </tr>\n",
              "    <tr>\n",
              "      <th>min</th>\n",
              "      <td>30000.00</td>\n",
              "      <td>0.00</td>\n",
              "      <td>0.00</td>\n",
              "      <td>0.00</td>\n",
              "      <td>0.00</td>\n",
              "      <td>0.00</td>\n",
              "      <td>0.00</td>\n",
              "      <td>0.00</td>\n",
              "      <td>0.00</td>\n",
              "      <td>0.00</td>\n",
              "      <td>0.00</td>\n",
              "      <td>0.00</td>\n",
              "      <td>0.00</td>\n",
              "      <td>0.00</td>\n",
              "      <td>0.00</td>\n",
              "      <td>0.00</td>\n",
              "      <td>0.00</td>\n",
              "      <td>0.00</td>\n",
              "      <td>0.00</td>\n",
              "      <td>0.00</td>\n",
              "      <td>0.00</td>\n",
              "      <td>0.00</td>\n",
              "      <td>0.00</td>\n",
              "      <td>0.00</td>\n",
              "      <td>0.00</td>\n",
              "      <td>0.00</td>\n",
              "      <td>0.00</td>\n",
              "      <td>0.00</td>\n",
              "      <td>0.00</td>\n",
              "      <td>0.00</td>\n",
              "      <td>0.00</td>\n",
              "      <td>0.00</td>\n",
              "      <td>0.00</td>\n",
              "      <td>0.00</td>\n",
              "      <td>0.00</td>\n",
              "      <td>0.00</td>\n",
              "      <td>0.00</td>\n",
              "      <td>0.00</td>\n",
              "      <td>0.00</td>\n",
              "      <td>0.00</td>\n",
              "      <td>...</td>\n",
              "      <td>0.00</td>\n",
              "      <td>0.00</td>\n",
              "      <td>0.00</td>\n",
              "      <td>0.00</td>\n",
              "      <td>0.00</td>\n",
              "      <td>0.00</td>\n",
              "      <td>0.00</td>\n",
              "      <td>0.00</td>\n",
              "      <td>0.00</td>\n",
              "      <td>0.00</td>\n",
              "      <td>0.00</td>\n",
              "      <td>0.00</td>\n",
              "      <td>0.00</td>\n",
              "      <td>0.00</td>\n",
              "      <td>0.00</td>\n",
              "      <td>0.00</td>\n",
              "      <td>0.00</td>\n",
              "      <td>0.00</td>\n",
              "      <td>0.00</td>\n",
              "      <td>0.00</td>\n",
              "      <td>0.00</td>\n",
              "      <td>0.00</td>\n",
              "      <td>0.00</td>\n",
              "      <td>0.00</td>\n",
              "      <td>0.00</td>\n",
              "      <td>0.00</td>\n",
              "      <td>0.00</td>\n",
              "      <td>0.00</td>\n",
              "      <td>0.00</td>\n",
              "      <td>0.00</td>\n",
              "      <td>0.00</td>\n",
              "      <td>0.00</td>\n",
              "      <td>0.00</td>\n",
              "      <td>0.00</td>\n",
              "      <td>0.00</td>\n",
              "      <td>0.00</td>\n",
              "      <td>0.00</td>\n",
              "      <td>0.00</td>\n",
              "      <td>0.00</td>\n",
              "      <td>0.00</td>\n",
              "    </tr>\n",
              "    <tr>\n",
              "      <th>25%</th>\n",
              "      <td>600000.00</td>\n",
              "      <td>0.00</td>\n",
              "      <td>0.00</td>\n",
              "      <td>0.00</td>\n",
              "      <td>0.00</td>\n",
              "      <td>0.00</td>\n",
              "      <td>0.00</td>\n",
              "      <td>0.00</td>\n",
              "      <td>0.00</td>\n",
              "      <td>0.00</td>\n",
              "      <td>0.00</td>\n",
              "      <td>0.00</td>\n",
              "      <td>0.00</td>\n",
              "      <td>0.00</td>\n",
              "      <td>0.00</td>\n",
              "      <td>0.00</td>\n",
              "      <td>0.00</td>\n",
              "      <td>0.00</td>\n",
              "      <td>0.00</td>\n",
              "      <td>0.00</td>\n",
              "      <td>0.00</td>\n",
              "      <td>0.00</td>\n",
              "      <td>0.00</td>\n",
              "      <td>0.00</td>\n",
              "      <td>0.00</td>\n",
              "      <td>0.00</td>\n",
              "      <td>0.00</td>\n",
              "      <td>0.00</td>\n",
              "      <td>0.00</td>\n",
              "      <td>0.00</td>\n",
              "      <td>0.00</td>\n",
              "      <td>0.00</td>\n",
              "      <td>0.00</td>\n",
              "      <td>0.00</td>\n",
              "      <td>0.00</td>\n",
              "      <td>0.00</td>\n",
              "      <td>0.00</td>\n",
              "      <td>0.00</td>\n",
              "      <td>0.00</td>\n",
              "      <td>0.00</td>\n",
              "      <td>...</td>\n",
              "      <td>0.00</td>\n",
              "      <td>0.00</td>\n",
              "      <td>0.00</td>\n",
              "      <td>0.00</td>\n",
              "      <td>0.00</td>\n",
              "      <td>0.00</td>\n",
              "      <td>0.00</td>\n",
              "      <td>0.00</td>\n",
              "      <td>0.00</td>\n",
              "      <td>0.00</td>\n",
              "      <td>0.00</td>\n",
              "      <td>0.00</td>\n",
              "      <td>0.00</td>\n",
              "      <td>0.00</td>\n",
              "      <td>0.00</td>\n",
              "      <td>0.00</td>\n",
              "      <td>0.00</td>\n",
              "      <td>0.00</td>\n",
              "      <td>0.00</td>\n",
              "      <td>0.00</td>\n",
              "      <td>0.00</td>\n",
              "      <td>0.00</td>\n",
              "      <td>0.00</td>\n",
              "      <td>0.00</td>\n",
              "      <td>0.00</td>\n",
              "      <td>0.00</td>\n",
              "      <td>0.00</td>\n",
              "      <td>0.00</td>\n",
              "      <td>0.00</td>\n",
              "      <td>0.00</td>\n",
              "      <td>0.00</td>\n",
              "      <td>0.00</td>\n",
              "      <td>0.00</td>\n",
              "      <td>0.00</td>\n",
              "      <td>0.00</td>\n",
              "      <td>0.00</td>\n",
              "      <td>0.00</td>\n",
              "      <td>0.00</td>\n",
              "      <td>0.00</td>\n",
              "      <td>0.00</td>\n",
              "    </tr>\n",
              "    <tr>\n",
              "      <th>50%</th>\n",
              "      <td>2260000.00</td>\n",
              "      <td>0.00</td>\n",
              "      <td>0.00</td>\n",
              "      <td>0.00</td>\n",
              "      <td>0.00</td>\n",
              "      <td>0.00</td>\n",
              "      <td>0.00</td>\n",
              "      <td>0.00</td>\n",
              "      <td>0.00</td>\n",
              "      <td>0.00</td>\n",
              "      <td>0.00</td>\n",
              "      <td>0.00</td>\n",
              "      <td>0.00</td>\n",
              "      <td>0.00</td>\n",
              "      <td>0.00</td>\n",
              "      <td>0.00</td>\n",
              "      <td>0.00</td>\n",
              "      <td>0.00</td>\n",
              "      <td>0.00</td>\n",
              "      <td>0.00</td>\n",
              "      <td>0.00</td>\n",
              "      <td>0.00</td>\n",
              "      <td>0.00</td>\n",
              "      <td>0.00</td>\n",
              "      <td>0.00</td>\n",
              "      <td>0.00</td>\n",
              "      <td>0.00</td>\n",
              "      <td>0.00</td>\n",
              "      <td>0.00</td>\n",
              "      <td>0.00</td>\n",
              "      <td>0.00</td>\n",
              "      <td>0.00</td>\n",
              "      <td>0.00</td>\n",
              "      <td>0.00</td>\n",
              "      <td>0.00</td>\n",
              "      <td>0.00</td>\n",
              "      <td>0.00</td>\n",
              "      <td>0.00</td>\n",
              "      <td>0.00</td>\n",
              "      <td>0.00</td>\n",
              "      <td>...</td>\n",
              "      <td>0.00</td>\n",
              "      <td>0.00</td>\n",
              "      <td>0.00</td>\n",
              "      <td>0.00</td>\n",
              "      <td>0.00</td>\n",
              "      <td>0.00</td>\n",
              "      <td>0.00</td>\n",
              "      <td>0.00</td>\n",
              "      <td>0.00</td>\n",
              "      <td>0.00</td>\n",
              "      <td>0.00</td>\n",
              "      <td>0.00</td>\n",
              "      <td>0.00</td>\n",
              "      <td>0.00</td>\n",
              "      <td>0.00</td>\n",
              "      <td>0.00</td>\n",
              "      <td>0.00</td>\n",
              "      <td>0.00</td>\n",
              "      <td>0.00</td>\n",
              "      <td>0.00</td>\n",
              "      <td>0.00</td>\n",
              "      <td>0.00</td>\n",
              "      <td>0.00</td>\n",
              "      <td>0.00</td>\n",
              "      <td>0.00</td>\n",
              "      <td>0.00</td>\n",
              "      <td>0.00</td>\n",
              "      <td>0.00</td>\n",
              "      <td>0.00</td>\n",
              "      <td>0.00</td>\n",
              "      <td>0.00</td>\n",
              "      <td>0.00</td>\n",
              "      <td>0.00</td>\n",
              "      <td>0.00</td>\n",
              "      <td>0.00</td>\n",
              "      <td>0.00</td>\n",
              "      <td>0.00</td>\n",
              "      <td>0.00</td>\n",
              "      <td>0.00</td>\n",
              "      <td>0.00</td>\n",
              "    </tr>\n",
              "    <tr>\n",
              "      <th>75%</th>\n",
              "      <td>8000000.00</td>\n",
              "      <td>0.00</td>\n",
              "      <td>0.00</td>\n",
              "      <td>0.00</td>\n",
              "      <td>0.00</td>\n",
              "      <td>0.00</td>\n",
              "      <td>0.00</td>\n",
              "      <td>0.00</td>\n",
              "      <td>0.00</td>\n",
              "      <td>600000.00</td>\n",
              "      <td>0.00</td>\n",
              "      <td>0.00</td>\n",
              "      <td>0.00</td>\n",
              "      <td>0.00</td>\n",
              "      <td>0.00</td>\n",
              "      <td>0.00</td>\n",
              "      <td>0.00</td>\n",
              "      <td>0.00</td>\n",
              "      <td>0.00</td>\n",
              "      <td>0.00</td>\n",
              "      <td>0.00</td>\n",
              "      <td>0.00</td>\n",
              "      <td>0.00</td>\n",
              "      <td>0.00</td>\n",
              "      <td>0.00</td>\n",
              "      <td>0.00</td>\n",
              "      <td>0.00</td>\n",
              "      <td>0.00</td>\n",
              "      <td>0.00</td>\n",
              "      <td>0.00</td>\n",
              "      <td>0.00</td>\n",
              "      <td>0.00</td>\n",
              "      <td>0.00</td>\n",
              "      <td>0.00</td>\n",
              "      <td>0.00</td>\n",
              "      <td>0.00</td>\n",
              "      <td>0.00</td>\n",
              "      <td>0.00</td>\n",
              "      <td>0.00</td>\n",
              "      <td>0.00</td>\n",
              "      <td>...</td>\n",
              "      <td>0.00</td>\n",
              "      <td>0.00</td>\n",
              "      <td>0.00</td>\n",
              "      <td>0.00</td>\n",
              "      <td>0.00</td>\n",
              "      <td>0.00</td>\n",
              "      <td>0.00</td>\n",
              "      <td>0.00</td>\n",
              "      <td>0.00</td>\n",
              "      <td>0.00</td>\n",
              "      <td>0.00</td>\n",
              "      <td>0.00</td>\n",
              "      <td>0.00</td>\n",
              "      <td>0.00</td>\n",
              "      <td>0.00</td>\n",
              "      <td>0.00</td>\n",
              "      <td>0.00</td>\n",
              "      <td>0.00</td>\n",
              "      <td>0.00</td>\n",
              "      <td>0.00</td>\n",
              "      <td>0.00</td>\n",
              "      <td>0.00</td>\n",
              "      <td>0.00</td>\n",
              "      <td>0.00</td>\n",
              "      <td>0.00</td>\n",
              "      <td>0.00</td>\n",
              "      <td>0.00</td>\n",
              "      <td>0.00</td>\n",
              "      <td>0.00</td>\n",
              "      <td>0.00</td>\n",
              "      <td>0.00</td>\n",
              "      <td>0.00</td>\n",
              "      <td>0.00</td>\n",
              "      <td>0.00</td>\n",
              "      <td>0.00</td>\n",
              "      <td>0.00</td>\n",
              "      <td>0.00</td>\n",
              "      <td>0.00</td>\n",
              "      <td>0.00</td>\n",
              "      <td>0.00</td>\n",
              "    </tr>\n",
              "    <tr>\n",
              "      <th>max</th>\n",
              "      <td>40000000.00</td>\n",
              "      <td>20000000.00</td>\n",
              "      <td>4000000.00</td>\n",
              "      <td>20000000.00</td>\n",
              "      <td>14800000.00</td>\n",
              "      <td>100000000.00</td>\n",
              "      <td>20708000.00</td>\n",
              "      <td>40000000.00</td>\n",
              "      <td>10400000.00</td>\n",
              "      <td>319612000.00</td>\n",
              "      <td>60000000.00</td>\n",
              "      <td>100000000.00</td>\n",
              "      <td>38000.00</td>\n",
              "      <td>6000000.00</td>\n",
              "      <td>356000000.00</td>\n",
              "      <td>66000000.00</td>\n",
              "      <td>31110000.00</td>\n",
              "      <td>79600000.00</td>\n",
              "      <td>100000000.00</td>\n",
              "      <td>21730000.00</td>\n",
              "      <td>1100000.00</td>\n",
              "      <td>200000000.00</td>\n",
              "      <td>153672000.00</td>\n",
              "      <td>60000000.00</td>\n",
              "      <td>37200000.00</td>\n",
              "      <td>100000000.00</td>\n",
              "      <td>6000000.00</td>\n",
              "      <td>0.00</td>\n",
              "      <td>76000000.00</td>\n",
              "      <td>316750000.00</td>\n",
              "      <td>70000000.00</td>\n",
              "      <td>10000000.00</td>\n",
              "      <td>150000000.00</td>\n",
              "      <td>60000000.00</td>\n",
              "      <td>0.00</td>\n",
              "      <td>25000000.00</td>\n",
              "      <td>302312000.00</td>\n",
              "      <td>0.00</td>\n",
              "      <td>333800000.00</td>\n",
              "      <td>319612000.00</td>\n",
              "      <td>...</td>\n",
              "      <td>10000000.00</td>\n",
              "      <td>360000000.00</td>\n",
              "      <td>205756000.00</td>\n",
              "      <td>13760000.00</td>\n",
              "      <td>20000.00</td>\n",
              "      <td>60000000.00</td>\n",
              "      <td>35030000.00</td>\n",
              "      <td>200000000.00</td>\n",
              "      <td>274406000.00</td>\n",
              "      <td>130000000.00</td>\n",
              "      <td>100000000.00</td>\n",
              "      <td>24000000.00</td>\n",
              "      <td>50000000.00</td>\n",
              "      <td>10000000.00</td>\n",
              "      <td>16800000.00</td>\n",
              "      <td>50000000.00</td>\n",
              "      <td>153672000.00</td>\n",
              "      <td>40000000.00</td>\n",
              "      <td>309200000.00</td>\n",
              "      <td>40000000.00</td>\n",
              "      <td>50000000.00</td>\n",
              "      <td>16000000.00</td>\n",
              "      <td>40000000.00</td>\n",
              "      <td>150000000.00</td>\n",
              "      <td>150000000.00</td>\n",
              "      <td>516124000.00</td>\n",
              "      <td>160160000.00</td>\n",
              "      <td>4400000.00</td>\n",
              "      <td>120000000.00</td>\n",
              "      <td>45280000.00</td>\n",
              "      <td>76000000.00</td>\n",
              "      <td>123588000.00</td>\n",
              "      <td>130000000.00</td>\n",
              "      <td>144400000.00</td>\n",
              "      <td>640000.00</td>\n",
              "      <td>301312000.00</td>\n",
              "      <td>106420000.00</td>\n",
              "      <td>140000000.00</td>\n",
              "      <td>61768000.00</td>\n",
              "      <td>43200000.00</td>\n",
              "    </tr>\n",
              "  </tbody>\n",
              "</table>\n",
              "<p>8 rows × 4992 columns</p>\n",
              "</div>"
            ],
            "text/plain": [
              "           target   48df886f9  0deb4b6a8  ...    fb36b89d9   7e293fbaf   9fc776466\n",
              "count     4459.00     4459.00    4459.00  ...      4459.00     4459.00     4459.00\n",
              "mean   5944923.32    14654.93    1390.89  ...    312374.07    92199.60   227909.96\n",
              "std    8234311.50   389329.81   64283.02  ...   4318500.71  1635993.43  1811139.28\n",
              "min      30000.00        0.00       0.00  ...         0.00        0.00        0.00\n",
              "25%     600000.00        0.00       0.00  ...         0.00        0.00        0.00\n",
              "50%    2260000.00        0.00       0.00  ...         0.00        0.00        0.00\n",
              "75%    8000000.00        0.00       0.00  ...         0.00        0.00        0.00\n",
              "max   40000000.00 20000000.00 4000000.00  ... 140000000.00 61768000.00 43200000.00\n",
              "\n",
              "[8 rows x 4992 columns]"
            ]
          },
          "metadata": {
            "tags": []
          },
          "execution_count": 5
        }
      ]
    },
    {
      "cell_type": "code",
      "metadata": {
        "id": "0UywwIjwN47U"
      },
      "source": [
        "train_stat = train.agg(['nunique','sum','var','kurtosis','std','min','max','skew']).T\n",
        "train_stat['Null']=train.isnull().sum()\n",
        "train_stat['Zeros']=(train==0).sum()\n",
        "train_stat['Duplicated']=train.T.duplicated()\n",
        "train_stat['Missing']=1.0*train_stat.Zeros/train.shape[0]"
      ],
      "execution_count": 6,
      "outputs": []
    },
    {
      "cell_type": "code",
      "metadata": {
        "colab": {
          "base_uri": "https://localhost:8080/"
        },
        "id": "be80TmHb12i6",
        "outputId": "7cd63d65-d75f-49a0-d342-163944558088"
      },
      "source": [
        "print('Null Values:',train_stat.Null.sum())\n",
        "print('Zero Values:',train_stat.Zeros.sum())\n",
        "print('Constant Valued Columns:',np.sum(train_stat['nunique']==1))\n",
        "print('Zeroed Valued Columns:',len(train_stat[train_stat.Zeros==train.shape[0]]))\n",
        "print('Duplicated Columns:',train_stat['Duplicated'].sum())"
      ],
      "execution_count": 7,
      "outputs": [
        {
          "output_type": "stream",
          "text": [
            "Null Values: 0\n",
            "Zero Values: 21554760\n",
            "Constant Valued Columns: 256\n",
            "Zeroed Valued Columns: 256\n",
            "Duplicated Columns: 260\n"
          ],
          "name": "stdout"
        }
      ]
    },
    {
      "cell_type": "code",
      "metadata": {
        "colab": {
          "base_uri": "https://localhost:8080/",
          "height": 0
        },
        "id": "KqWPc6XEJI9g",
        "outputId": "65347d88-0b66-4649-b68c-18295145cd3b"
      },
      "source": [
        "HTML('<p>The dataset has <b>'+str(np.sum(train.duplicated()))+' duplicate</b> Records.')"
      ],
      "execution_count": 8,
      "outputs": [
        {
          "output_type": "execute_result",
          "data": {
            "text/html": [
              "<p>The dataset has <b>0 duplicate</b> Records."
            ],
            "text/plain": [
              "<IPython.core.display.HTML object>"
            ]
          },
          "metadata": {
            "tags": []
          },
          "execution_count": 8
        }
      ]
    },
    {
      "cell_type": "code",
      "metadata": {
        "id": "81FFQEmznmQf"
      },
      "source": [
        "train.pop('ID');"
      ],
      "execution_count": 9,
      "outputs": []
    },
    {
      "cell_type": "markdown",
      "metadata": {
        "id": "oI0A7Eb3wgkK"
      },
      "source": [
        "#Sparsity and other characteristics"
      ]
    },
    {
      "cell_type": "code",
      "metadata": {
        "colab": {
          "base_uri": "https://localhost:8080/",
          "height": 0
        },
        "id": "tV3AcCUKwsDd",
        "outputId": "5c6b1e77-6b2c-488c-90cb-2b8d8bb16514"
      },
      "source": [
        "plt.figure(figsize=(10,7));\n",
        "plt.spy(train,aspect='auto');\n",
        "plt.suptitle('Sparsity in train data',fontsize=20);"
      ],
      "execution_count": 10,
      "outputs": [
        {
          "output_type": "display_data",
          "data": {
            "image/png": "[encoded data removed]",
            "text/plain": [
              "<Figure size 720x504 with 1 Axes>"
            ]
          },
          "metadata": {
            "tags": [],
            "needs_background": "light"
          }
        }
      ]
    },
    {
      "cell_type": "code",
      "metadata": {
        "colab": {
          "base_uri": "https://localhost:8080/",
          "height": 0
        },
        "id": "6nLGIi1J2JW1",
        "outputId": "84155208-468c-41c0-f9ce-2455e77815a9"
      },
      "source": [
        "sns.distplot(train_stat['nunique']);\n",
        "plt.xlim(0,1000);\n",
        "plt.suptitle('Unique Values Density');"
      ],
      "execution_count": 11,
      "outputs": [
        {
          "output_type": "display_data",
          "data": {
            "image/png": "[encoded data removed]",
            "text/plain": [
              "<Figure size 432x288 with 1 Axes>"
            ]
          },
          "metadata": {
            "tags": [],
            "needs_background": "light"
          }
        }
      ]
    },
    {
      "cell_type": "code",
      "metadata": {
        "colab": {
          "base_uri": "https://localhost:8080/",
          "height": 0
        },
        "id": "6cKlIOye_FEq",
        "outputId": "6031fab9-59c0-4056-a040-2dea69159c1e"
      },
      "source": [
        "fig, axs = plt.subplots(1,2,figsize=(20,6))\n",
        "sns.distplot(train.target,ax=axs[0]);\n",
        "sns.distplot(np.log1p(train.target),ax=axs[1]);\n",
        "axs[0].title.set_text('Target Distribution');\n",
        "axs[1].title.set_text('Log1p(Target) Distribution');"
      ],
      "execution_count": 12,
      "outputs": [
        {
          "output_type": "display_data",
          "data": {
            "image/png": "[encoded data removed]",
            "text/plain": [
              "<Figure size 1440x432 with 2 Axes>"
            ]
          },
          "metadata": {
            "tags": [],
            "needs_background": "light"
          }
        }
      ]
    },
    {
      "cell_type": "code",
      "metadata": {
        "colab": {
          "base_uri": "https://localhost:8080/",
          "height": 0
        },
        "id": "NFc-kIpwB-6r",
        "outputId": "e6a1ebe1-64a8-4bb5-b351-39d39906f2fd"
      },
      "source": [
        "sns.lineplot(data=train ,x=range(train.shape[0]), y=np.sort(train.target));\n",
        "sns.lineplot(data=train ,x=range(train.shape[0]), y=np.sort(np.log1p(train.target)));"
      ],
      "execution_count": 13,
      "outputs": [
        {
          "output_type": "display_data",
          "data": {
            "image/png": "[encoded data removed]",
            "text/plain": [
              "<Figure size 432x288 with 1 Axes>"
            ]
          },
          "metadata": {
            "tags": [],
            "needs_background": "light"
          }
        }
      ]
    },
    {
      "cell_type": "code",
      "metadata": {
        "colab": {
          "base_uri": "https://localhost:8080/",
          "height": 0
        },
        "id": "DB4iv-3hWjtt",
        "outputId": "5550d4f3-ed6f-4d99-8098-ce5fea884e9a"
      },
      "source": [
        "f,ax= plt.subplots(1,2,figsize=(20,5));\n",
        "sns.distplot(train_stat.Zeros,ax=ax[0]);\n",
        "sns.distplot(train_stat['nunique'],ax=ax[1]);\n",
        "ax[0].set_title('Zero values in Columns',fontsize=15);\n",
        "ax[1].set_title('Unique values in Columns',fontsize=15);"
      ],
      "execution_count": 14,
      "outputs": [
        {
          "output_type": "display_data",
          "data": {
            "image/png": "[encoded data removed]",
            "text/plain": [
              "<Figure size 1440x360 with 2 Axes>"
            ]
          },
          "metadata": {
            "tags": [],
            "needs_background": "light"
          }
        }
      ]
    },
    {
      "cell_type": "markdown",
      "metadata": {
        "id": "-hF-rXAiynHS"
      },
      "source": [
        "# **Feature Selection & Engineering**"
      ]
    },
    {
      "cell_type": "code",
      "metadata": {
        "id": "YkRTzI2l-8cf"
      },
      "source": [
        "dup_cols = train.columns[train.T.duplicated()]\n",
        "const_cols=train.columns[train.nunique()==1]\n",
        "cols_to_remove = dup_cols.append(const_cols).unique()"
      ],
      "execution_count": 15,
      "outputs": []
    },
    {
      "cell_type": "code",
      "metadata": {
        "id": "SgklrnUs-tlI"
      },
      "source": [
        "train.drop(columns=cols_to_remove,inplace=True)\n",
        "X = train.copy()\n",
        "Y= pd.DataFrame(np.log1p(X.pop('target')),index=train.index)\n",
        "X = pd.DataFrame(FunctionTransformer(np.sqrt).fit_transform(X),columns=X.columns,index=X.index)\n",
        "X = pd.DataFrame(MinMaxScaler().fit_transform(X),columns=X.columns,index=X.index)\n",
        "solutions = mrmr.mrmr_ensemble(features=X,targets=Y,solution_length=50,solution_count=1)\n",
        "feat_mrmr=solutions[0][0]\n",
        "X_freg= SelectKBest(f_regression,k=50).fit(X,Y)\n",
        "feat_freg=X_freg.get_support()\n",
        "feat_freg = X.columns[feat_freg]"
      ],
      "execution_count": 16,
      "outputs": []
    },
    {
      "cell_type": "code",
      "metadata": {
        "id": "QaYY06IjBjch"
      },
      "source": [
        "X_mut= SelectKBest(mutual_info_regression,k=50).fit(csr_matrix(X),Y)\n",
        "feat_mut=X_mut.get_support()\n",
        "feat_mut = X.columns[feat_mut]\n",
        "feat_final = feat_mut.append(pd.Index(feat_mrmr)).append(feat_freg).unique() \n",
        "#.append(pd.Index(['9306da53f','fb0f5dbfe']))"
      ],
      "execution_count": 17,
      "outputs": []
    },
    {
      "cell_type": "code",
      "metadata": {
        "id": "cozXQzpYmkKZ"
      },
      "source": [
        "def stat_cols(df):\n",
        "  weight = ((df != 0).sum()/len(df)).values\n",
        "  df1 = pd.DataFrame()\n",
        "  df_tmp= df[df!=0]\n",
        "  df1[\"sum\"] = df.sum(axis=1)\n",
        "  df1[\"Values\"]=(df!=0).sum(axis=1)\n",
        "  df1[\"weight_count\"] = (df_tmp*weight).sum(axis=1)\n",
        "  df1[\"Variance_NonZero\"]=df_tmp.var(axis=1)\n",
        "  df1[\"Mean_NonZero\"]=df_tmp.mean(axis=1)\n",
        "  df1[\"Median_NonZero\"]=df_tmp.median(axis=1)\n",
        "  df1[\"Std_Dev_NonZero\"]=df_tmp.std(axis=1)\n",
        "  df1[\"Skew_NonZero\"]=df_tmp.skew(axis=1)\n",
        "  df1[\"Kurt_NonZero\"]=df_tmp.kurtosis(axis=1)\n",
        "  df1[\"Max_NonZero\"]=df_tmp.max(axis=1)\n",
        "  df1[\"Min_NonZero\"]=df_tmp.min(axis=1)\n",
        "  del df_tmp\n",
        "  gc.collect()\n",
        "  return df1\n",
        "\n",
        "def proj_cols(df,n_dim):\n",
        "  r= random_projection.SparseRandomProjection(n_components=n_dim)\n",
        "  return pd.DataFrame(r.fit_transform(df)),r"
      ],
      "execution_count": 18,
      "outputs": []
    },
    {
      "cell_type": "code",
      "metadata": {
        "id": "MpE2kaAb8tIh"
      },
      "source": [
        "reg=LGBMRegressor(objective='regression_l2',n_jobs=-1,metric='rmse',verbosity=2,boosting='gbdt')\n",
        "params = {\n",
        "        'n_estimators': Integer(10, 200),  \n",
        "        'num_leaves':   Integer(2,100),     \n",
        "        'min_child_samples': Integer(1, 50), \n",
        "        'feature_fraction': Real(0.1, 1.0),\n",
        "        'max_depth' : Integer(1, 50),\n",
        "        'learning_rate': Real(0.01, 0.6, 'log-uniform'),\n",
        "        'reg_lambda': Real(1e-6, 100, 'log-uniform'),\n",
        "        'scale_pos_weight': Real(1, 10),\n",
        "        'max_bin': Integer(100, 1000),        \n",
        "        'min_child_weight': Real(1, 10),      \n",
        "        'subsample_for_bin': Integer(10, 3000)  \n",
        "        }\n"
      ],
      "execution_count": 19,
      "outputs": []
    },
    {
      "cell_type": "code",
      "metadata": {
        "id": "RpFpsvM196By"
      },
      "source": [
        "bayes_cv_tuner = BayesSearchCV(\n",
        "                              estimator = reg,\n",
        "                              search_spaces = params,\n",
        "                              cv = 5,\n",
        "                              n_jobs = 3,\n",
        "                              n_iter = 10,\n",
        "                              verbose = 3,\n",
        "                              random_state = 0\n",
        "                               )"
      ],
      "execution_count": 20,
      "outputs": []
    },
    {
      "cell_type": "code",
      "metadata": {
        "colab": {
          "base_uri": "https://localhost:8080/",
          "height": 231
        },
        "id": "umLzVO0EwBZN",
        "outputId": "64901e8f-135e-4803-f4af-77ef729bf29f"
      },
      "source": [
        "X = train.copy()[feat_final]\n",
        "y=np.log1p(train.pop('target'))\n",
        "rp,r=proj_cols(train,127)\n",
        "ft=FunctionTransformer(np.sqrt).fit(X)\n",
        "X_ = pd.DataFrame(ft.transform(X),columns=X.columns)\n",
        "X_ =pd.concat([X_,stat_cols(train),rp],axis=1)\n",
        "minmax = MinMaxScaler().fit(X_)\n",
        "X_ = minmax.transform(X_)\n",
        "X_=csr_matrix(X_)\n",
        "result= bayes_cv_tuner.fit(X_,y)\n",
        "print(bayes_cv_tuner.best_params_)\n",
        "print(\"Best Score = \",np.round(bayes_cv_tuner.best_score_, 4))\n",
        "\n",
        "bst_stat = bayes_cv_tuner.best_estimator_\n",
        "bst_stat \n",
        "np.sqrt(mean_squared_error(y,bst_stat.predict(X_)))"
      ],
      "execution_count": 24,
      "outputs": [
        {
          "output_type": "error",
          "ename": "NameError",
          "evalue": "ignored",
          "traceback": [
            "\u001b[0;31m---------------------------------------------------------------------------\u001b[0m",
            "\u001b[0;31mNameError\u001b[0m                                 Traceback (most recent call last)",
            "\u001b[0;32m<ipython-input-24-2cc4c2a862bb>\u001b[0m in \u001b[0;36m<module>\u001b[0;34m()\u001b[0m\n\u001b[0;32m----> 1\u001b[0;31m \u001b[0mX\u001b[0m \u001b[0;34m=\u001b[0m \u001b[0mtrain\u001b[0m\u001b[0;34m.\u001b[0m\u001b[0mcopy\u001b[0m\u001b[0;34m(\u001b[0m\u001b[0;34m)\u001b[0m\u001b[0;34m[\u001b[0m\u001b[0mfeat_final\u001b[0m\u001b[0;34m]\u001b[0m\u001b[0;34m\u001b[0m\u001b[0;34m\u001b[0m\u001b[0m\n\u001b[0m\u001b[1;32m      2\u001b[0m \u001b[0my\u001b[0m\u001b[0;34m=\u001b[0m\u001b[0mnp\u001b[0m\u001b[0;34m.\u001b[0m\u001b[0mlog1p\u001b[0m\u001b[0;34m(\u001b[0m\u001b[0mtrain\u001b[0m\u001b[0;34m.\u001b[0m\u001b[0mpop\u001b[0m\u001b[0;34m(\u001b[0m\u001b[0;34m'target'\u001b[0m\u001b[0;34m)\u001b[0m\u001b[0;34m)\u001b[0m\u001b[0;34m\u001b[0m\u001b[0;34m\u001b[0m\u001b[0m\n\u001b[1;32m      3\u001b[0m \u001b[0mrp\u001b[0m\u001b[0;34m,\u001b[0m\u001b[0mr\u001b[0m\u001b[0;34m=\u001b[0m\u001b[0mproj_cols\u001b[0m\u001b[0;34m(\u001b[0m\u001b[0mtrain\u001b[0m\u001b[0;34m,\u001b[0m\u001b[0;36m127\u001b[0m\u001b[0;34m)\u001b[0m\u001b[0;34m\u001b[0m\u001b[0;34m\u001b[0m\u001b[0m\n\u001b[1;32m      4\u001b[0m \u001b[0mft\u001b[0m\u001b[0;34m=\u001b[0m\u001b[0mFunctionTransformer\u001b[0m\u001b[0;34m(\u001b[0m\u001b[0mnp\u001b[0m\u001b[0;34m.\u001b[0m\u001b[0msqrt\u001b[0m\u001b[0;34m)\u001b[0m\u001b[0;34m.\u001b[0m\u001b[0mfit\u001b[0m\u001b[0;34m(\u001b[0m\u001b[0mX\u001b[0m\u001b[0;34m)\u001b[0m\u001b[0;34m\u001b[0m\u001b[0;34m\u001b[0m\u001b[0m\n\u001b[1;32m      5\u001b[0m \u001b[0mX_\u001b[0m \u001b[0;34m=\u001b[0m \u001b[0mpd\u001b[0m\u001b[0;34m.\u001b[0m\u001b[0mDataFrame\u001b[0m\u001b[0;34m(\u001b[0m\u001b[0mft\u001b[0m\u001b[0;34m.\u001b[0m\u001b[0mtransform\u001b[0m\u001b[0;34m(\u001b[0m\u001b[0mX\u001b[0m\u001b[0;34m)\u001b[0m\u001b[0;34m,\u001b[0m\u001b[0mcolumns\u001b[0m\u001b[0;34m=\u001b[0m\u001b[0mX\u001b[0m\u001b[0;34m.\u001b[0m\u001b[0mcolumns\u001b[0m\u001b[0;34m)\u001b[0m\u001b[0;34m\u001b[0m\u001b[0;34m\u001b[0m\u001b[0m\n",
            "\u001b[0;31mNameError\u001b[0m: name 'train' is not defined"
          ]
        }
      ]
    },
    {
      "cell_type": "code",
      "metadata": {
        "id": "9sqw_yYOg80a",
        "colab": {
          "base_uri": "https://localhost:8080/"
        },
        "outputId": "6f3274e1-6f38-4791-da84-fd670db29373"
      },
      "source": [
        "#del Z\n",
        "cols_to_remove\n",
        "feat_final\n",
        "r\n",
        "ft\n",
        "minmax\n",
        "del X\n",
        "del X_\n",
        "del rp\n",
        "del train\n",
        "del train_stat\n",
        "gc.collect()"
      ],
      "execution_count": 22,
      "outputs": [
        {
          "output_type": "execute_result",
          "data": {
            "text/plain": [
              "Index(['c330f1a67', 'eeac16933', '7df8788e8', '5b91580ee', '6f29fbbc7',\n",
              "       '46dafc868', 'ae41a98b6', 'f416800e9', '6d07828ca', '7ac332a1d',\n",
              "       ...\n",
              "       'a8e562e8e', 'eb6bb7ce1', '5beff147e', '52b347cdc', '4600aadcf',\n",
              "       '6fa0b9dab', '43d70cc4d', '408021ef8', 'e29d22b59', 'd5308d8bc'],\n",
              "      dtype='object', length=261)"
            ]
          },
          "metadata": {
            "tags": []
          },
          "execution_count": 22
        },
        {
          "output_type": "execute_result",
          "data": {
            "text/plain": [
              "Index(['20aa07010', '963a49cdc', '68a945b18', '935ca66a9', '861076e21',\n",
              "       '26fc93eb7', '0572565c2', '66ace2992', '350473311', 'fb49e4212',\n",
              "       ...\n",
              "       'fb0f5dbfe', 'd5fa73ead', 'e1d0e11b5', 'ba4ceabc5', '2e103d632',\n",
              "       'c928b4b74', '122c135ed', 'aeff360c7', '0d51722ca', '555f18bd3'],\n",
              "      dtype='object', length=107)"
            ]
          },
          "metadata": {
            "tags": []
          },
          "execution_count": 22
        },
        {
          "output_type": "execute_result",
          "data": {
            "text/plain": [
              "SparseRandomProjection(n_components=127)"
            ]
          },
          "metadata": {
            "tags": []
          },
          "execution_count": 22
        },
        {
          "output_type": "execute_result",
          "data": {
            "text/plain": [
              "FunctionTransformer(func=<ufunc 'sqrt'>)"
            ]
          },
          "metadata": {
            "tags": []
          },
          "execution_count": 22
        },
        {
          "output_type": "execute_result",
          "data": {
            "text/plain": [
              "MinMaxScaler()"
            ]
          },
          "metadata": {
            "tags": []
          },
          "execution_count": 22
        },
        {
          "output_type": "execute_result",
          "data": {
            "text/plain": [
              "700"
            ]
          },
          "metadata": {
            "tags": []
          },
          "execution_count": 22
        }
      ]
    },
    {
      "cell_type": "code",
      "metadata": {
        "id": "4JtoP5_7FGoi"
      },
      "source": [
        "h=True\n",
        "for i in range(15):\n",
        "  test=pd.read_csv('/content/test.csv.zip',skiprows=range(1,i*40000+1),nrows=40000)\n",
        "  test.drop(columns=cols_to_remove,inplace=True)\n",
        "  X = test[feat_final]\n",
        "  rp = pd.DataFrame(r.transform(test.drop(columns=['ID'])))\n",
        "  st = stat_cols(test.drop(columns=['ID']))\n",
        "  X_ = pd.DataFrame(ft.transform(X),columns=X.columns)\n",
        "  X_ =pd.concat([X_,st,rp],axis=1)\n",
        "  X_ = minmax.transform(X_)\n",
        "  X_=csr_matrix(X_)\n",
        "  test['target']=np.expm1(bst_stat.predict(X_))\n",
        "  del rp\n",
        "  del X\n",
        "  del X_\n",
        "  gc.collect()\n",
        "  test[['ID', 'target']].to_csv('submission_rp_ft_bayes_lgb.csv', index=False,mode='a',header=h)\n",
        "  h=False"
      ],
      "execution_count": null,
      "outputs": []
    },
    {
      "cell_type": "code",
      "metadata": {
        "id": "iewPVsLYVLUb"
      },
      "source": [
        ""
      ],
      "execution_count": null,
      "outputs": []
    }
  ]
}