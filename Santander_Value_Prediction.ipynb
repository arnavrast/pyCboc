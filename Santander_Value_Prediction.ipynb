{
  "nbformat": 4,
  "nbformat_minor": 0,
  "metadata": {
    "colab": {
      "name": "Santander_Value_Prediction.ipynb",
      "provenance": [],
      "authorship_tag": "ABX9TyM52sq3XsLQeeResAms2w7n",
      "include_colab_link": true
    },
    "kernelspec": {
      "display_name": "Python 3",
      "name": "python3"
    },
    "language_info": {
      "name": "python"
    }
  },
  "cells": [
    {
      "cell_type": "markdown",
      "metadata": {
        "id": "view-in-github",
        "colab_type": "text"
      },
      "source": [
        "<a href=\"https://colab.research.google.com/github/arnavrast/pyCboc/blob/master/Santander_Value_Prediction.ipynb\" target=\"_parent\"><img src=\"https://colab.research.google.com/assets/colab-badge.svg\" alt=\"Open In Colab\"/></a>"
      ]
    },
    {
      "cell_type": "markdown",
      "metadata": {
        "id": "__avoxhPu6MN"
      },
      "source": [
        "# Prerequisites"
      ]
    },
    {
      "cell_type": "code",
      "metadata": {
        "id": "3MJ3XVHko-TH"
      },
      "source": [
        "#!pip install kaggle\n",
        "\n",
        "!mkdir $HOME/.kaggle\n",
        "from google.colab import files\n",
        "uploaded = files.upload()"
      ],
      "execution_count": null,
      "outputs": []
    },
    {
      "cell_type": "code",
      "metadata": {
        "id": "gtj815-MtrES"
      },
      "source": [
        "!mv kaggle.json $HOME/.kaggle/kaggle.json\n",
        "!chmod 600 $HOME/.kaggle/kaggle.json\n",
        "for fn in uploaded.keys():\n",
        "  print('User uploaded file \"{name}\" with length {length} bytes'.format(\n",
        "      name=fn, length=len(uploaded[fn])))\n",
        "!kaggle competitions download -c santander-value-prediction-challenge"
      ],
      "execution_count": null,
      "outputs": []
    },
    {
      "cell_type": "markdown",
      "metadata": {
        "id": "aZyQ3qrlv50I"
      },
      "source": [
        "# **The Challenge**\n"
      ]
    },
    {
      "cell_type": "markdown",
      "metadata": {
        "id": "mbGuUEZLyg_x"
      },
      "source": [
        "According to Epsilon research, 80% of customers are more likely to do business with you if you provide personalized service. Banking is no exception.\n",
        "\n",
        "The digitalization of everyday lives means that customers expect services to be delivered in a personalized and timely manner… and often before they´ve even realized they need the service. In their 3rd Kaggle competition, Santander Group aims to go a step beyond recognizing that there is a need to provide a customer a financial service and intends to determine the amount or value of the customer's transaction. This means anticipating customer needs in a more concrete, but also simple and personal way. With so many choices for financial services, this need is greater now than ever before.\n",
        "\n",
        "In this competition, Santander Group is asking Kagglers to help them identify the value of transactions for each potential customer. This is a first step that Santander needs to nail in order to personalize their services at scale.\n",
        "The evaluation metric for this competition is Root Mean Squared Logarithmic Error.\n",
        "\n",
        "The RMSLE is calculated as\n",
        "\n",
        "$$\\epsilon=\\sqrt{\\frac{1}{n}\\sum_{i=1}^{n}[log(p_i+1)-log(a_i+1)]^2}$$\n",
        "Where:\n",
        "\n",
        "\\\\(\\epsilon\\\\) is the RMSLE value (score)\n",
        "\n",
        "\\\\(n\\\\) is the total number of observations in the (public/private) data set,\n",
        "\n",
        "\\\\(p_i\\\\) is your prediction of target, and\n",
        "\n",
        "\\\\(a_i\\\\) is the actual target for \\\\(i\\\\).\n",
        "\n",
        "\\\\(\\log(x)\\\\) is the natural logarithm of \\\\(x\\\\)"
      ]
    },
    {
      "cell_type": "code",
      "metadata": {
        "id": "KfvWPC_5vXlA"
      },
      "source": [
        "import numpy as np\n",
        "import pandas as pd\n",
        "import matplotlib.pyplot as plt\n",
        "%matplotlib inline\n",
        "import seaborn as sns\n",
        "from scipy.sparse import csr_matrix\n",
        "\n",
        "from skopt import BayesSearchCV\n",
        "from skopt.space import Real, Categorical, Integer\n",
        "\n",
        "from sklearn.linear_model import *\n",
        "from lightgbm import LGBMRegressor\n",
        "\n",
        "from sklearn.preprocessing import MinMaxScaler\n",
        "from sklearn.feature_selection import SelectKBest,f_regression,mutual_info_regression\n",
        "from pymrmre import mrmr\n",
        "\n",
        "import warnings\n",
        "warnings.filterwarnings('ignore')\n",
        "pd.options.display.float_format = '{:.2f}'.format\n",
        "\n",
        "from IPython.core.interactiveshell import InteractiveShell\n",
        "from IPython.display import *\n",
        "InteractiveShell.ast_node_interactivity = \"all\""
      ],
      "execution_count": 23,
      "outputs": []
    },
    {
      "cell_type": "code",
      "metadata": {
        "id": "OTU_UXRJyl_i"
      },
      "source": [
        "train= pd.read_csv('/content/train.csv.zip')\n",
        "#test=pd.read_csv('/content/test.csv.zip')"
      ],
      "execution_count": 2,
      "outputs": []
    },
    {
      "cell_type": "code",
      "metadata": {
        "colab": {
          "base_uri": "https://localhost:8080/",
          "height": 431
        },
        "id": "G-eE_6rYy0Am",
        "outputId": "a2633fda-03e0-4192-b12c-181380b23542"
      },
      "source": [
        "train.shape #,test.shape\n",
        "train.info()\n",
        "train.describe()"
      ],
      "execution_count": 3,
      "outputs": [
        {
          "output_type": "execute_result",
          "data": {
            "text/plain": [
              "(4459, 4993)"
            ]
          },
          "metadata": {
            "tags": []
          },
          "execution_count": 3
        },
        {
          "output_type": "stream",
          "text": [
            "<class 'pandas.core.frame.DataFrame'>\n",
            "RangeIndex: 4459 entries, 0 to 4458\n",
            "Columns: 4993 entries, ID to 9fc776466\n",
            "dtypes: float64(1845), int64(3147), object(1)\n",
            "memory usage: 169.9+ MB\n"
          ],
          "name": "stdout"
        },
        {
          "output_type": "execute_result",
          "data": {
            "text/html": [
              "<div>\n",
              "<style scoped>\n",
              "    .dataframe tbody tr th:only-of-type {\n",
              "        vertical-align: middle;\n",
              "    }\n",
              "\n",
              "    .dataframe tbody tr th {\n",
              "        vertical-align: top;\n",
              "    }\n",
              "\n",
              "    .dataframe thead th {\n",
              "        text-align: right;\n",
              "    }\n",
              "</style>\n",
              "<table border=\"1\" class=\"dataframe\">\n",
              "  <thead>\n",
              "    <tr style=\"text-align: right;\">\n",
              "      <th></th>\n",
              "      <th>target</th>\n",
              "      <th>48df886f9</th>\n",
              "      <th>0deb4b6a8</th>\n",
              "      <th>34b15f335</th>\n",
              "      <th>a8cb14b00</th>\n",
              "      <th>2f0771a37</th>\n",
              "      <th>30347e683</th>\n",
              "      <th>d08d1fbe3</th>\n",
              "      <th>6ee66e115</th>\n",
              "      <th>20aa07010</th>\n",
              "      <th>dc5a8f1d8</th>\n",
              "      <th>11d86fa6a</th>\n",
              "      <th>77c9823f2</th>\n",
              "      <th>8d6c2a0b2</th>\n",
              "      <th>4681de4fd</th>\n",
              "      <th>adf119b9a</th>\n",
              "      <th>cff75dd09</th>\n",
              "      <th>96f83a237</th>\n",
              "      <th>b8a716ebf</th>\n",
              "      <th>6c7a4567c</th>\n",
              "      <th>4fcfd2b4d</th>\n",
              "      <th>f3b9c0b95</th>\n",
              "      <th>71cebf11c</th>\n",
              "      <th>d966ac62c</th>\n",
              "      <th>68b647452</th>\n",
              "      <th>c88d108c9</th>\n",
              "      <th>ff7b471cd</th>\n",
              "      <th>d5308d8bc</th>\n",
              "      <th>0d866c3d7</th>\n",
              "      <th>bc3f77679</th>\n",
              "      <th>bd8f989f1</th>\n",
              "      <th>0eff5bf95</th>\n",
              "      <th>22ed6dba3</th>\n",
              "      <th>92b13ebba</th>\n",
              "      <th>c330f1a67</th>\n",
              "      <th>233c7c17c</th>\n",
              "      <th>2cb4d123e</th>\n",
              "      <th>eeac16933</th>\n",
              "      <th>87ffda550</th>\n",
              "      <th>822e49b95</th>\n",
              "      <th>...</th>\n",
              "      <th>969caa87a</th>\n",
              "      <th>00302fe51</th>\n",
              "      <th>1189ee335</th>\n",
              "      <th>ca04a07ca</th>\n",
              "      <th>f6f15ffa5</th>\n",
              "      <th>841704460</th>\n",
              "      <th>ea5ed6ff7</th>\n",
              "      <th>b1bb8eac3</th>\n",
              "      <th>8132d18b8</th>\n",
              "      <th>c24ea6548</th>\n",
              "      <th>cdfc2b069</th>\n",
              "      <th>2a879b4f7</th>\n",
              "      <th>6b119d8ce</th>\n",
              "      <th>98dea9e42</th>\n",
              "      <th>9f2471031</th>\n",
              "      <th>88458cb21</th>\n",
              "      <th>f40da20f4</th>\n",
              "      <th>7ad6b38bd</th>\n",
              "      <th>c901e7df1</th>\n",
              "      <th>8f55955dc</th>\n",
              "      <th>85dcc913d</th>\n",
              "      <th>5ca0b9b0c</th>\n",
              "      <th>eab8abf7a</th>\n",
              "      <th>8d8bffbae</th>\n",
              "      <th>2a1f6c7f9</th>\n",
              "      <th>9437d8b64</th>\n",
              "      <th>5831f4c76</th>\n",
              "      <th>2e84e09c5</th>\n",
              "      <th>d45fd5508</th>\n",
              "      <th>a165f5761</th>\n",
              "      <th>3ecc09859</th>\n",
              "      <th>9281abeea</th>\n",
              "      <th>8675bec0b</th>\n",
              "      <th>3a13ed79a</th>\n",
              "      <th>f677d4d13</th>\n",
              "      <th>71b203550</th>\n",
              "      <th>137efaa80</th>\n",
              "      <th>fb36b89d9</th>\n",
              "      <th>7e293fbaf</th>\n",
              "      <th>9fc776466</th>\n",
              "    </tr>\n",
              "  </thead>\n",
              "  <tbody>\n",
              "    <tr>\n",
              "      <th>count</th>\n",
              "      <td>4459.00</td>\n",
              "      <td>4459.00</td>\n",
              "      <td>4459.00</td>\n",
              "      <td>4459.00</td>\n",
              "      <td>4459.00</td>\n",
              "      <td>4459.00</td>\n",
              "      <td>4459.00</td>\n",
              "      <td>4459.00</td>\n",
              "      <td>4459.00</td>\n",
              "      <td>4459.00</td>\n",
              "      <td>4459.00</td>\n",
              "      <td>4459.00</td>\n",
              "      <td>4459.00</td>\n",
              "      <td>4459.00</td>\n",
              "      <td>4459.00</td>\n",
              "      <td>4459.00</td>\n",
              "      <td>4459.00</td>\n",
              "      <td>4459.00</td>\n",
              "      <td>4459.00</td>\n",
              "      <td>4459.00</td>\n",
              "      <td>4459.00</td>\n",
              "      <td>4459.00</td>\n",
              "      <td>4459.00</td>\n",
              "      <td>4459.00</td>\n",
              "      <td>4459.00</td>\n",
              "      <td>4459.00</td>\n",
              "      <td>4459.00</td>\n",
              "      <td>4459.00</td>\n",
              "      <td>4459.00</td>\n",
              "      <td>4459.00</td>\n",
              "      <td>4459.00</td>\n",
              "      <td>4459.00</td>\n",
              "      <td>4459.00</td>\n",
              "      <td>4459.00</td>\n",
              "      <td>4459.00</td>\n",
              "      <td>4459.00</td>\n",
              "      <td>4459.00</td>\n",
              "      <td>4459.00</td>\n",
              "      <td>4459.00</td>\n",
              "      <td>4459.00</td>\n",
              "      <td>...</td>\n",
              "      <td>4459.00</td>\n",
              "      <td>4459.00</td>\n",
              "      <td>4459.00</td>\n",
              "      <td>4459.00</td>\n",
              "      <td>4459.00</td>\n",
              "      <td>4459.00</td>\n",
              "      <td>4459.00</td>\n",
              "      <td>4459.00</td>\n",
              "      <td>4459.00</td>\n",
              "      <td>4459.00</td>\n",
              "      <td>4459.00</td>\n",
              "      <td>4459.00</td>\n",
              "      <td>4459.00</td>\n",
              "      <td>4459.00</td>\n",
              "      <td>4459.00</td>\n",
              "      <td>4459.00</td>\n",
              "      <td>4459.00</td>\n",
              "      <td>4459.00</td>\n",
              "      <td>4459.00</td>\n",
              "      <td>4459.00</td>\n",
              "      <td>4459.00</td>\n",
              "      <td>4459.00</td>\n",
              "      <td>4459.00</td>\n",
              "      <td>4459.00</td>\n",
              "      <td>4459.00</td>\n",
              "      <td>4459.00</td>\n",
              "      <td>4459.00</td>\n",
              "      <td>4459.00</td>\n",
              "      <td>4459.00</td>\n",
              "      <td>4459.00</td>\n",
              "      <td>4459.00</td>\n",
              "      <td>4459.00</td>\n",
              "      <td>4459.00</td>\n",
              "      <td>4459.00</td>\n",
              "      <td>4459.00</td>\n",
              "      <td>4459.00</td>\n",
              "      <td>4459.00</td>\n",
              "      <td>4459.00</td>\n",
              "      <td>4459.00</td>\n",
              "      <td>4459.00</td>\n",
              "    </tr>\n",
              "    <tr>\n",
              "      <th>mean</th>\n",
              "      <td>5944923.32</td>\n",
              "      <td>14654.93</td>\n",
              "      <td>1390.89</td>\n",
              "      <td>26722.45</td>\n",
              "      <td>4530.16</td>\n",
              "      <td>26409.96</td>\n",
              "      <td>30708.11</td>\n",
              "      <td>16865.22</td>\n",
              "      <td>4669.21</td>\n",
              "      <td>2569407.37</td>\n",
              "      <td>155215.84</td>\n",
              "      <td>195050.00</td>\n",
              "      <td>8.52</td>\n",
              "      <td>3595.87</td>\n",
              "      <td>2258014.80</td>\n",
              "      <td>268084.32</td>\n",
              "      <td>45882.55</td>\n",
              "      <td>44514.78</td>\n",
              "      <td>396896.09</td>\n",
              "      <td>28831.29</td>\n",
              "      <td>1940.79</td>\n",
              "      <td>448384.09</td>\n",
              "      <td>79897.29</td>\n",
              "      <td>154839.43</td>\n",
              "      <td>112825.36</td>\n",
              "      <td>114832.92</td>\n",
              "      <td>3377.44</td>\n",
              "      <td>0.00</td>\n",
              "      <td>379413.01</td>\n",
              "      <td>120224.71</td>\n",
              "      <td>742646.40</td>\n",
              "      <td>4994.84</td>\n",
              "      <td>1725258.22</td>\n",
              "      <td>194188.17</td>\n",
              "      <td>0.00</td>\n",
              "      <td>93383.27</td>\n",
              "      <td>629689.62</td>\n",
              "      <td>0.00</td>\n",
              "      <td>1249545.29</td>\n",
              "      <td>1200041.53</td>\n",
              "      <td>...</td>\n",
              "      <td>2412.20</td>\n",
              "      <td>376758.91</td>\n",
              "      <td>666947.78</td>\n",
              "      <td>42819.49</td>\n",
              "      <td>6.28</td>\n",
              "      <td>140911.19</td>\n",
              "      <td>236477.99</td>\n",
              "      <td>762748.51</td>\n",
              "      <td>675263.96</td>\n",
              "      <td>542865.36</td>\n",
              "      <td>777697.87</td>\n",
              "      <td>100485.12</td>\n",
              "      <td>382502.49</td>\n",
              "      <td>2539.58</td>\n",
              "      <td>3767.66</td>\n",
              "      <td>41538.91</td>\n",
              "      <td>70412.24</td>\n",
              "      <td>96485.62</td>\n",
              "      <td>975124.02</td>\n",
              "      <td>29109.67</td>\n",
              "      <td>75998.02</td>\n",
              "      <td>3588.25</td>\n",
              "      <td>179601.61</td>\n",
              "      <td>530280.99</td>\n",
              "      <td>237739.63</td>\n",
              "      <td>1183135.48</td>\n",
              "      <td>1247793.15</td>\n",
              "      <td>986.77</td>\n",
              "      <td>61650.15</td>\n",
              "      <td>128949.46</td>\n",
              "      <td>467605.70</td>\n",
              "      <td>444623.94</td>\n",
              "      <td>805621.95</td>\n",
              "      <td>781296.64</td>\n",
              "      <td>143.53</td>\n",
              "      <td>121380.93</td>\n",
              "      <td>35734.51</td>\n",
              "      <td>312374.07</td>\n",
              "      <td>92199.60</td>\n",
              "      <td>227909.96</td>\n",
              "    </tr>\n",
              "    <tr>\n",
              "      <th>std</th>\n",
              "      <td>8234311.50</td>\n",
              "      <td>389329.81</td>\n",
              "      <td>64283.02</td>\n",
              "      <td>569965.18</td>\n",
              "      <td>235912.41</td>\n",
              "      <td>1514730.15</td>\n",
              "      <td>577058.97</td>\n",
              "      <td>751275.59</td>\n",
              "      <td>187944.89</td>\n",
              "      <td>9610183.07</td>\n",
              "      <td>1587814.71</td>\n",
              "      <td>2397372.09</td>\n",
              "      <td>569.07</td>\n",
              "      <td>124543.50</td>\n",
              "      <td>15522980.13</td>\n",
              "      <td>3026909.74</td>\n",
              "      <td>814067.36</td>\n",
              "      <td>1354504.11</td>\n",
              "      <td>3238242.60</td>\n",
              "      <td>570538.76</td>\n",
              "      <td>27860.22</td>\n",
              "      <td>6370643.86</td>\n",
              "      <td>2846439.90</td>\n",
              "      <td>2425793.87</td>\n",
              "      <td>1161274.59</td>\n",
              "      <td>2747534.58</td>\n",
              "      <td>131383.85</td>\n",
              "      <td>0.00</td>\n",
              "      <td>3561409.05</td>\n",
              "      <td>4867502.88</td>\n",
              "      <td>3799941.04</td>\n",
              "      <td>186866.36</td>\n",
              "      <td>9034308.14</td>\n",
              "      <td>1481349.06</td>\n",
              "      <td>0.00</td>\n",
              "      <td>854776.37</td>\n",
              "      <td>6956379.91</td>\n",
              "      <td>0.00</td>\n",
              "      <td>7361172.67</td>\n",
              "      <td>8113234.07</td>\n",
              "      <td>...</td>\n",
              "      <td>149858.56</td>\n",
              "      <td>7755050.84</td>\n",
              "      <td>6261372.65</td>\n",
              "      <td>547336.96</td>\n",
              "      <td>322.56</td>\n",
              "      <td>2052878.49</td>\n",
              "      <td>1533061.99</td>\n",
              "      <td>5816721.55</td>\n",
              "      <td>7444468.36</td>\n",
              "      <td>4250171.64</td>\n",
              "      <td>4287642.81</td>\n",
              "      <td>915006.75</td>\n",
              "      <td>2799847.78</td>\n",
              "      <td>150868.32</td>\n",
              "      <td>251588.36</td>\n",
              "      <td>1179500.40</td>\n",
              "      <td>2810829.54</td>\n",
              "      <td>1114863.17</td>\n",
              "      <td>9750283.16</td>\n",
              "      <td>791206.38</td>\n",
              "      <td>1206580.86</td>\n",
              "      <td>239607.96</td>\n",
              "      <td>1660884.12</td>\n",
              "      <td>4497566.80</td>\n",
              "      <td>4109064.67</td>\n",
              "      <td>11394925.26</td>\n",
              "      <td>6878894.51</td>\n",
              "      <td>65892.19</td>\n",
              "      <td>2124731.41</td>\n",
              "      <td>1335938.24</td>\n",
              "      <td>4068037.55</td>\n",
              "      <td>4428889.45</td>\n",
              "      <td>4513245.79</td>\n",
              "      <td>6839450.76</td>\n",
              "      <td>9584.32</td>\n",
              "      <td>4720708.53</td>\n",
              "      <td>1614622.20</td>\n",
              "      <td>4318500.71</td>\n",
              "      <td>1635993.43</td>\n",
              "      <td>1811139.28</td>\n",
              "    </tr>\n",
              "    <tr>\n",
              "      <th>min</th>\n",
              "      <td>30000.00</td>\n",
              "      <td>0.00</td>\n",
              "      <td>0.00</td>\n",
              "      <td>0.00</td>\n",
              "      <td>0.00</td>\n",
              "      <td>0.00</td>\n",
              "      <td>0.00</td>\n",
              "      <td>0.00</td>\n",
              "      <td>0.00</td>\n",
              "      <td>0.00</td>\n",
              "      <td>0.00</td>\n",
              "      <td>0.00</td>\n",
              "      <td>0.00</td>\n",
              "      <td>0.00</td>\n",
              "      <td>0.00</td>\n",
              "      <td>0.00</td>\n",
              "      <td>0.00</td>\n",
              "      <td>0.00</td>\n",
              "      <td>0.00</td>\n",
              "      <td>0.00</td>\n",
              "      <td>0.00</td>\n",
              "      <td>0.00</td>\n",
              "      <td>0.00</td>\n",
              "      <td>0.00</td>\n",
              "      <td>0.00</td>\n",
              "      <td>0.00</td>\n",
              "      <td>0.00</td>\n",
              "      <td>0.00</td>\n",
              "      <td>0.00</td>\n",
              "      <td>0.00</td>\n",
              "      <td>0.00</td>\n",
              "      <td>0.00</td>\n",
              "      <td>0.00</td>\n",
              "      <td>0.00</td>\n",
              "      <td>0.00</td>\n",
              "      <td>0.00</td>\n",
              "      <td>0.00</td>\n",
              "      <td>0.00</td>\n",
              "      <td>0.00</td>\n",
              "      <td>0.00</td>\n",
              "      <td>...</td>\n",
              "      <td>0.00</td>\n",
              "      <td>0.00</td>\n",
              "      <td>0.00</td>\n",
              "      <td>0.00</td>\n",
              "      <td>0.00</td>\n",
              "      <td>0.00</td>\n",
              "      <td>0.00</td>\n",
              "      <td>0.00</td>\n",
              "      <td>0.00</td>\n",
              "      <td>0.00</td>\n",
              "      <td>0.00</td>\n",
              "      <td>0.00</td>\n",
              "      <td>0.00</td>\n",
              "      <td>0.00</td>\n",
              "      <td>0.00</td>\n",
              "      <td>0.00</td>\n",
              "      <td>0.00</td>\n",
              "      <td>0.00</td>\n",
              "      <td>0.00</td>\n",
              "      <td>0.00</td>\n",
              "      <td>0.00</td>\n",
              "      <td>0.00</td>\n",
              "      <td>0.00</td>\n",
              "      <td>0.00</td>\n",
              "      <td>0.00</td>\n",
              "      <td>0.00</td>\n",
              "      <td>0.00</td>\n",
              "      <td>0.00</td>\n",
              "      <td>0.00</td>\n",
              "      <td>0.00</td>\n",
              "      <td>0.00</td>\n",
              "      <td>0.00</td>\n",
              "      <td>0.00</td>\n",
              "      <td>0.00</td>\n",
              "      <td>0.00</td>\n",
              "      <td>0.00</td>\n",
              "      <td>0.00</td>\n",
              "      <td>0.00</td>\n",
              "      <td>0.00</td>\n",
              "      <td>0.00</td>\n",
              "    </tr>\n",
              "    <tr>\n",
              "      <th>25%</th>\n",
              "      <td>600000.00</td>\n",
              "      <td>0.00</td>\n",
              "      <td>0.00</td>\n",
              "      <td>0.00</td>\n",
              "      <td>0.00</td>\n",
              "      <td>0.00</td>\n",
              "      <td>0.00</td>\n",
              "      <td>0.00</td>\n",
              "      <td>0.00</td>\n",
              "      <td>0.00</td>\n",
              "      <td>0.00</td>\n",
              "      <td>0.00</td>\n",
              "      <td>0.00</td>\n",
              "      <td>0.00</td>\n",
              "      <td>0.00</td>\n",
              "      <td>0.00</td>\n",
              "      <td>0.00</td>\n",
              "      <td>0.00</td>\n",
              "      <td>0.00</td>\n",
              "      <td>0.00</td>\n",
              "      <td>0.00</td>\n",
              "      <td>0.00</td>\n",
              "      <td>0.00</td>\n",
              "      <td>0.00</td>\n",
              "      <td>0.00</td>\n",
              "      <td>0.00</td>\n",
              "      <td>0.00</td>\n",
              "      <td>0.00</td>\n",
              "      <td>0.00</td>\n",
              "      <td>0.00</td>\n",
              "      <td>0.00</td>\n",
              "      <td>0.00</td>\n",
              "      <td>0.00</td>\n",
              "      <td>0.00</td>\n",
              "      <td>0.00</td>\n",
              "      <td>0.00</td>\n",
              "      <td>0.00</td>\n",
              "      <td>0.00</td>\n",
              "      <td>0.00</td>\n",
              "      <td>0.00</td>\n",
              "      <td>...</td>\n",
              "      <td>0.00</td>\n",
              "      <td>0.00</td>\n",
              "      <td>0.00</td>\n",
              "      <td>0.00</td>\n",
              "      <td>0.00</td>\n",
              "      <td>0.00</td>\n",
              "      <td>0.00</td>\n",
              "      <td>0.00</td>\n",
              "      <td>0.00</td>\n",
              "      <td>0.00</td>\n",
              "      <td>0.00</td>\n",
              "      <td>0.00</td>\n",
              "      <td>0.00</td>\n",
              "      <td>0.00</td>\n",
              "      <td>0.00</td>\n",
              "      <td>0.00</td>\n",
              "      <td>0.00</td>\n",
              "      <td>0.00</td>\n",
              "      <td>0.00</td>\n",
              "      <td>0.00</td>\n",
              "      <td>0.00</td>\n",
              "      <td>0.00</td>\n",
              "      <td>0.00</td>\n",
              "      <td>0.00</td>\n",
              "      <td>0.00</td>\n",
              "      <td>0.00</td>\n",
              "      <td>0.00</td>\n",
              "      <td>0.00</td>\n",
              "      <td>0.00</td>\n",
              "      <td>0.00</td>\n",
              "      <td>0.00</td>\n",
              "      <td>0.00</td>\n",
              "      <td>0.00</td>\n",
              "      <td>0.00</td>\n",
              "      <td>0.00</td>\n",
              "      <td>0.00</td>\n",
              "      <td>0.00</td>\n",
              "      <td>0.00</td>\n",
              "      <td>0.00</td>\n",
              "      <td>0.00</td>\n",
              "    </tr>\n",
              "    <tr>\n",
              "      <th>50%</th>\n",
              "      <td>2260000.00</td>\n",
              "      <td>0.00</td>\n",
              "      <td>0.00</td>\n",
              "      <td>0.00</td>\n",
              "      <td>0.00</td>\n",
              "      <td>0.00</td>\n",
              "      <td>0.00</td>\n",
              "      <td>0.00</td>\n",
              "      <td>0.00</td>\n",
              "      <td>0.00</td>\n",
              "      <td>0.00</td>\n",
              "      <td>0.00</td>\n",
              "      <td>0.00</td>\n",
              "      <td>0.00</td>\n",
              "      <td>0.00</td>\n",
              "      <td>0.00</td>\n",
              "      <td>0.00</td>\n",
              "      <td>0.00</td>\n",
              "      <td>0.00</td>\n",
              "      <td>0.00</td>\n",
              "      <td>0.00</td>\n",
              "      <td>0.00</td>\n",
              "      <td>0.00</td>\n",
              "      <td>0.00</td>\n",
              "      <td>0.00</td>\n",
              "      <td>0.00</td>\n",
              "      <td>0.00</td>\n",
              "      <td>0.00</td>\n",
              "      <td>0.00</td>\n",
              "      <td>0.00</td>\n",
              "      <td>0.00</td>\n",
              "      <td>0.00</td>\n",
              "      <td>0.00</td>\n",
              "      <td>0.00</td>\n",
              "      <td>0.00</td>\n",
              "      <td>0.00</td>\n",
              "      <td>0.00</td>\n",
              "      <td>0.00</td>\n",
              "      <td>0.00</td>\n",
              "      <td>0.00</td>\n",
              "      <td>...</td>\n",
              "      <td>0.00</td>\n",
              "      <td>0.00</td>\n",
              "      <td>0.00</td>\n",
              "      <td>0.00</td>\n",
              "      <td>0.00</td>\n",
              "      <td>0.00</td>\n",
              "      <td>0.00</td>\n",
              "      <td>0.00</td>\n",
              "      <td>0.00</td>\n",
              "      <td>0.00</td>\n",
              "      <td>0.00</td>\n",
              "      <td>0.00</td>\n",
              "      <td>0.00</td>\n",
              "      <td>0.00</td>\n",
              "      <td>0.00</td>\n",
              "      <td>0.00</td>\n",
              "      <td>0.00</td>\n",
              "      <td>0.00</td>\n",
              "      <td>0.00</td>\n",
              "      <td>0.00</td>\n",
              "      <td>0.00</td>\n",
              "      <td>0.00</td>\n",
              "      <td>0.00</td>\n",
              "      <td>0.00</td>\n",
              "      <td>0.00</td>\n",
              "      <td>0.00</td>\n",
              "      <td>0.00</td>\n",
              "      <td>0.00</td>\n",
              "      <td>0.00</td>\n",
              "      <td>0.00</td>\n",
              "      <td>0.00</td>\n",
              "      <td>0.00</td>\n",
              "      <td>0.00</td>\n",
              "      <td>0.00</td>\n",
              "      <td>0.00</td>\n",
              "      <td>0.00</td>\n",
              "      <td>0.00</td>\n",
              "      <td>0.00</td>\n",
              "      <td>0.00</td>\n",
              "      <td>0.00</td>\n",
              "    </tr>\n",
              "    <tr>\n",
              "      <th>75%</th>\n",
              "      <td>8000000.00</td>\n",
              "      <td>0.00</td>\n",
              "      <td>0.00</td>\n",
              "      <td>0.00</td>\n",
              "      <td>0.00</td>\n",
              "      <td>0.00</td>\n",
              "      <td>0.00</td>\n",
              "      <td>0.00</td>\n",
              "      <td>0.00</td>\n",
              "      <td>600000.00</td>\n",
              "      <td>0.00</td>\n",
              "      <td>0.00</td>\n",
              "      <td>0.00</td>\n",
              "      <td>0.00</td>\n",
              "      <td>0.00</td>\n",
              "      <td>0.00</td>\n",
              "      <td>0.00</td>\n",
              "      <td>0.00</td>\n",
              "      <td>0.00</td>\n",
              "      <td>0.00</td>\n",
              "      <td>0.00</td>\n",
              "      <td>0.00</td>\n",
              "      <td>0.00</td>\n",
              "      <td>0.00</td>\n",
              "      <td>0.00</td>\n",
              "      <td>0.00</td>\n",
              "      <td>0.00</td>\n",
              "      <td>0.00</td>\n",
              "      <td>0.00</td>\n",
              "      <td>0.00</td>\n",
              "      <td>0.00</td>\n",
              "      <td>0.00</td>\n",
              "      <td>0.00</td>\n",
              "      <td>0.00</td>\n",
              "      <td>0.00</td>\n",
              "      <td>0.00</td>\n",
              "      <td>0.00</td>\n",
              "      <td>0.00</td>\n",
              "      <td>0.00</td>\n",
              "      <td>0.00</td>\n",
              "      <td>...</td>\n",
              "      <td>0.00</td>\n",
              "      <td>0.00</td>\n",
              "      <td>0.00</td>\n",
              "      <td>0.00</td>\n",
              "      <td>0.00</td>\n",
              "      <td>0.00</td>\n",
              "      <td>0.00</td>\n",
              "      <td>0.00</td>\n",
              "      <td>0.00</td>\n",
              "      <td>0.00</td>\n",
              "      <td>0.00</td>\n",
              "      <td>0.00</td>\n",
              "      <td>0.00</td>\n",
              "      <td>0.00</td>\n",
              "      <td>0.00</td>\n",
              "      <td>0.00</td>\n",
              "      <td>0.00</td>\n",
              "      <td>0.00</td>\n",
              "      <td>0.00</td>\n",
              "      <td>0.00</td>\n",
              "      <td>0.00</td>\n",
              "      <td>0.00</td>\n",
              "      <td>0.00</td>\n",
              "      <td>0.00</td>\n",
              "      <td>0.00</td>\n",
              "      <td>0.00</td>\n",
              "      <td>0.00</td>\n",
              "      <td>0.00</td>\n",
              "      <td>0.00</td>\n",
              "      <td>0.00</td>\n",
              "      <td>0.00</td>\n",
              "      <td>0.00</td>\n",
              "      <td>0.00</td>\n",
              "      <td>0.00</td>\n",
              "      <td>0.00</td>\n",
              "      <td>0.00</td>\n",
              "      <td>0.00</td>\n",
              "      <td>0.00</td>\n",
              "      <td>0.00</td>\n",
              "      <td>0.00</td>\n",
              "    </tr>\n",
              "    <tr>\n",
              "      <th>max</th>\n",
              "      <td>40000000.00</td>\n",
              "      <td>20000000.00</td>\n",
              "      <td>4000000.00</td>\n",
              "      <td>20000000.00</td>\n",
              "      <td>14800000.00</td>\n",
              "      <td>100000000.00</td>\n",
              "      <td>20708000.00</td>\n",
              "      <td>40000000.00</td>\n",
              "      <td>10400000.00</td>\n",
              "      <td>319612000.00</td>\n",
              "      <td>60000000.00</td>\n",
              "      <td>100000000.00</td>\n",
              "      <td>38000.00</td>\n",
              "      <td>6000000.00</td>\n",
              "      <td>356000000.00</td>\n",
              "      <td>66000000.00</td>\n",
              "      <td>31110000.00</td>\n",
              "      <td>79600000.00</td>\n",
              "      <td>100000000.00</td>\n",
              "      <td>21730000.00</td>\n",
              "      <td>1100000.00</td>\n",
              "      <td>200000000.00</td>\n",
              "      <td>153672000.00</td>\n",
              "      <td>60000000.00</td>\n",
              "      <td>37200000.00</td>\n",
              "      <td>100000000.00</td>\n",
              "      <td>6000000.00</td>\n",
              "      <td>0.00</td>\n",
              "      <td>76000000.00</td>\n",
              "      <td>316750000.00</td>\n",
              "      <td>70000000.00</td>\n",
              "      <td>10000000.00</td>\n",
              "      <td>150000000.00</td>\n",
              "      <td>60000000.00</td>\n",
              "      <td>0.00</td>\n",
              "      <td>25000000.00</td>\n",
              "      <td>302312000.00</td>\n",
              "      <td>0.00</td>\n",
              "      <td>333800000.00</td>\n",
              "      <td>319612000.00</td>\n",
              "      <td>...</td>\n",
              "      <td>10000000.00</td>\n",
              "      <td>360000000.00</td>\n",
              "      <td>205756000.00</td>\n",
              "      <td>13760000.00</td>\n",
              "      <td>20000.00</td>\n",
              "      <td>60000000.00</td>\n",
              "      <td>35030000.00</td>\n",
              "      <td>200000000.00</td>\n",
              "      <td>274406000.00</td>\n",
              "      <td>130000000.00</td>\n",
              "      <td>100000000.00</td>\n",
              "      <td>24000000.00</td>\n",
              "      <td>50000000.00</td>\n",
              "      <td>10000000.00</td>\n",
              "      <td>16800000.00</td>\n",
              "      <td>50000000.00</td>\n",
              "      <td>153672000.00</td>\n",
              "      <td>40000000.00</td>\n",
              "      <td>309200000.00</td>\n",
              "      <td>40000000.00</td>\n",
              "      <td>50000000.00</td>\n",
              "      <td>16000000.00</td>\n",
              "      <td>40000000.00</td>\n",
              "      <td>150000000.00</td>\n",
              "      <td>150000000.00</td>\n",
              "      <td>516124000.00</td>\n",
              "      <td>160160000.00</td>\n",
              "      <td>4400000.00</td>\n",
              "      <td>120000000.00</td>\n",
              "      <td>45280000.00</td>\n",
              "      <td>76000000.00</td>\n",
              "      <td>123588000.00</td>\n",
              "      <td>130000000.00</td>\n",
              "      <td>144400000.00</td>\n",
              "      <td>640000.00</td>\n",
              "      <td>301312000.00</td>\n",
              "      <td>106420000.00</td>\n",
              "      <td>140000000.00</td>\n",
              "      <td>61768000.00</td>\n",
              "      <td>43200000.00</td>\n",
              "    </tr>\n",
              "  </tbody>\n",
              "</table>\n",
              "<p>8 rows × 4992 columns</p>\n",
              "</div>"
            ],
            "text/plain": [
              "           target   48df886f9  0deb4b6a8  ...    fb36b89d9   7e293fbaf   9fc776466\n",
              "count     4459.00     4459.00    4459.00  ...      4459.00     4459.00     4459.00\n",
              "mean   5944923.32    14654.93    1390.89  ...    312374.07    92199.60   227909.96\n",
              "std    8234311.50   389329.81   64283.02  ...   4318500.71  1635993.43  1811139.28\n",
              "min      30000.00        0.00       0.00  ...         0.00        0.00        0.00\n",
              "25%     600000.00        0.00       0.00  ...         0.00        0.00        0.00\n",
              "50%    2260000.00        0.00       0.00  ...         0.00        0.00        0.00\n",
              "75%    8000000.00        0.00       0.00  ...         0.00        0.00        0.00\n",
              "max   40000000.00 20000000.00 4000000.00  ... 140000000.00 61768000.00 43200000.00\n",
              "\n",
              "[8 rows x 4992 columns]"
            ]
          },
          "metadata": {
            "tags": []
          },
          "execution_count": 3
        }
      ]
    },
    {
      "cell_type": "code",
      "metadata": {
        "id": "I-pfi0wIzSye"
      },
      "source": [
        "train.set_index('ID',inplace=True)"
      ],
      "execution_count": 4,
      "outputs": []
    },
    {
      "cell_type": "code",
      "metadata": {
        "id": "0UywwIjwN47U"
      },
      "source": [
        "train_stat = train.agg(['nunique','sum','var','kurtosis','std','min','max','skew']).T\n",
        "train_stat['Null']=train.isnull().sum()\n",
        "train_stat['Zeros']=(train==0).sum()\n",
        "train_stat['Duplicated']=train.T.duplicated()\n",
        "train_stat['Missing']=1.0*train_stat.Zeros/train.shape[0]"
      ],
      "execution_count": 5,
      "outputs": []
    },
    {
      "cell_type": "code",
      "metadata": {
        "colab": {
          "base_uri": "https://localhost:8080/"
        },
        "id": "be80TmHb12i6",
        "outputId": "5466978d-126e-4531-b1ee-97dedeaeb732"
      },
      "source": [
        "print('Null Values:',train_stat.Null.sum())\n",
        "print('Zero Values:',train_stat.Zeros.sum())\n",
        "print('Constant Valued Columns:',np.sum(train_stat['nunique']==1))\n",
        "print('Zeroed Valued Columns:',len(train_stat[train_stat.Zeros==train.shape[0]]))\n",
        "print('Duplicated Columns:',train_stat['Duplicated'].sum())"
      ],
      "execution_count": 6,
      "outputs": [
        {
          "output_type": "stream",
          "text": [
            "Null Values: 0\n",
            "Zero Values: 21554760\n",
            "Constant Valued Columns: 256\n",
            "Zeroed Valued Columns: 256\n",
            "Duplicated Columns: 260\n"
          ],
          "name": "stdout"
        }
      ]
    },
    {
      "cell_type": "code",
      "metadata": {
        "colab": {
          "base_uri": "https://localhost:8080/",
          "height": 46
        },
        "id": "KqWPc6XEJI9g",
        "outputId": "ac2f282a-d2a7-45bb-ef05-1b2d3f26b7a3"
      },
      "source": [
        "HTML('<p>The dataset has <b>'+str(np.sum(train.duplicated()))+' duplicate</b> Records.')"
      ],
      "execution_count": 7,
      "outputs": [
        {
          "output_type": "execute_result",
          "data": {
            "text/html": [
              "<p>The dataset has <b>0 duplicate</b> Records."
            ],
            "text/plain": [
              "<IPython.core.display.HTML object>"
            ]
          },
          "metadata": {
            "tags": []
          },
          "execution_count": 7
        }
      ]
    },
    {
      "cell_type": "markdown",
      "metadata": {
        "id": "oI0A7Eb3wgkK"
      },
      "source": [
        "#Sparsity and other characteristics"
      ]
    },
    {
      "cell_type": "code",
      "metadata": {
        "colab": {
          "base_uri": "https://localhost:8080/",
          "height": 465
        },
        "id": "tV3AcCUKwsDd",
        "outputId": "60ea1789-862a-4948-a375-b8d2f8f6d41b"
      },
      "source": [
        "plt.figure(figsize=(10,7));\n",
        "plt.spy(train,aspect='auto');\n",
        "plt.suptitle('Sparsity in train data',fontsize=20);"
      ],
      "execution_count": 8,
      "outputs": [
        {
          "output_type": "display_data",
          "data": {
            "image/png": "[encoded data removed]",
            "text/plain": [
              "<Figure size 720x504 with 1 Axes>"
            ]
          },
          "metadata": {
            "tags": [],
            "needs_background": "light"
          }
        }
      ]
    },
    {
      "cell_type": "code",
      "metadata": {
        "colab": {
          "base_uri": "https://localhost:8080/",
          "height": 308
        },
        "id": "6nLGIi1J2JW1",
        "outputId": "b0edbb26-8e66-423f-ae85-4c7e17b957d6"
      },
      "source": [
        "sns.distplot(train_stat['nunique']);\n",
        "plt.xlim(0,1000);\n",
        "plt.suptitle('Unique Values Density');"
      ],
      "execution_count": 9,
      "outputs": [
        {
          "output_type": "display_data",
          "data": {
            "image/png": "[encoded data removed]",
            "text/plain": [
              "<Figure size 432x288 with 1 Axes>"
            ]
          },
          "metadata": {
            "tags": [],
            "needs_background": "light"
          }
        }
      ]
    },
    {
      "cell_type": "code",
      "metadata": {
        "colab": {
          "base_uri": "https://localhost:8080/",
          "height": 404
        },
        "id": "6cKlIOye_FEq",
        "outputId": "d65d8a12-abca-433c-c260-b76e93a5609b"
      },
      "source": [
        "fig, axs = plt.subplots(1,2,figsize=(20,6))\n",
        "sns.distplot(train.target,ax=axs[0]);\n",
        "sns.distplot(np.log1p(train.target),ax=axs[1]);\n",
        "axs[0].title.set_text('Target Distribution');\n",
        "axs[1].title.set_text('Log1p(Target) Distribution');"
      ],
      "execution_count": 10,
      "outputs": [
        {
          "output_type": "display_data",
          "data": {
            "image/png": "[encoded data removed]",
            "text/plain": [
              "<Figure size 1440x432 with 2 Axes>"
            ]
          },
          "metadata": {
            "tags": [],
            "needs_background": "light"
          }
        }
      ]
    },
    {
      "cell_type": "code",
      "metadata": {
        "colab": {
          "base_uri": "https://localhost:8080/",
          "height": 276
        },
        "id": "NFc-kIpwB-6r",
        "outputId": "14a8b99b-d55b-4aa1-db3e-b6ca86e14710"
      },
      "source": [
        "sns.lineplot(data=train ,x=range(train.shape[0]), y=np.sort(train.target));\n",
        "sns.lineplot(data=train ,x=range(train.shape[0]), y=np.sort(np.log1p(train.target)));"
      ],
      "execution_count": 11,
      "outputs": [
        {
          "output_type": "display_data",
          "data": {
            "image/png": "[encoded data removed]",
            "text/plain": [
              "<Figure size 432x288 with 1 Axes>"
            ]
          },
          "metadata": {
            "tags": [],
            "needs_background": "light"
          }
        }
      ]
    },
    {
      "cell_type": "code",
      "metadata": {
        "colab": {
          "base_uri": "https://localhost:8080/",
          "height": 352
        },
        "id": "DB4iv-3hWjtt",
        "outputId": "84e8e223-dafa-47f0-da97-bf586b483a90"
      },
      "source": [
        "f,ax= plt.subplots(1,2,figsize=(20,5));\n",
        "sns.distplot(train_stat.Zeros,ax=ax[0]);\n",
        "sns.distplot(train_stat['nunique'],ax=ax[1]);\n",
        "ax[0].set_title('Zero values in Columns',fontsize=15);\n",
        "ax[1].set_title('Unique values in Columns',fontsize=15);"
      ],
      "execution_count": 12,
      "outputs": [
        {
          "output_type": "display_data",
          "data": {
            "image/png": "[encoded data removed]",
            "text/plain": [
              "<Figure size 1440x360 with 2 Axes>"
            ]
          },
          "metadata": {
            "tags": [],
            "needs_background": "light"
          }
        }
      ]
    },
    {
      "cell_type": "code",
      "metadata": {
        "colab": {
          "base_uri": "https://localhost:8080/"
        },
        "id": "YkRTzI2l-8cf",
        "outputId": "f6f697fe-f609-4052-f70b-8079d5287694"
      },
      "source": [
        "dup_cols = train.columns[train.T.duplicated()]\n",
        "const_cols=train.columns[train.nunique()==1]\n",
        "cols_to_remove = dup_cols.append(const_cols).unique()\n",
        "cols_to_remove\n",
        "train.drop(columns=cols_to_remove,inplace=True)"
      ],
      "execution_count": 13,
      "outputs": [
        {
          "output_type": "execute_result",
          "data": {
            "text/plain": [
              "Index(['c330f1a67', 'eeac16933', '7df8788e8', '5b91580ee', '6f29fbbc7',\n",
              "       '46dafc868', 'ae41a98b6', 'f416800e9', '6d07828ca', '7ac332a1d',\n",
              "       ...\n",
              "       'a8e562e8e', 'eb6bb7ce1', '5beff147e', '52b347cdc', '4600aadcf',\n",
              "       '6fa0b9dab', '43d70cc4d', '408021ef8', 'e29d22b59', 'd5308d8bc'],\n",
              "      dtype='object', length=261)"
            ]
          },
          "metadata": {
            "tags": []
          },
          "execution_count": 13
        }
      ]
    },
    {
      "cell_type": "code",
      "metadata": {
        "id": "SgklrnUs-tlI"
      },
      "source": [
        "X = train.copy()\n",
        "Y= pd.DataFrame(np.log1p(X.pop('target')),index=train.index)\n",
        "X = pd.DataFrame(MinMaxScaler().fit_transform(X),columns=X.columns,index=X.index)\n",
        "solutions = mrmr.mrmr_ensemble(features=X,targets=Y,solution_length=50,solution_count=1)\n",
        "feat_mrmr=solutions[0][0]"
      ],
      "execution_count": 16,
      "outputs": []
    },
    {
      "cell_type": "code",
      "metadata": {
        "id": "QaYY06IjBjch"
      },
      "source": [
        "X_freg= SelectKBest(f_regression,k=50).fit(X,Y)\n",
        "X_mut= SelectKBest(mutual_info_regression,k=50).fit(X,Y)\n",
        "feat_freg=X_freg.get_support()\n",
        "feat_mut=X_mut.get_support()\n",
        "feat_freg = X.columns[feat_freg]\n",
        "feat_mut = X.columns[feat_mut]"
      ],
      "execution_count": 18,
      "outputs": []
    },
    {
      "cell_type": "code",
      "metadata": {
        "id": "5I5hVzK6CpgX"
      },
      "source": [
        "#feat_freg\n",
        "#type(feat_mut)\n",
        "#type(feat_mrmr)\n",
        "feat_final = feat_mut.append(pd.Index(feat_mrmr)).append(feat_freg).unique()"
      ],
      "execution_count": 19,
      "outputs": []
    },
    {
      "cell_type": "code",
      "metadata": {
        "id": "cozXQzpYmkKZ"
      },
      "source": [
        "def stat_cols(df):\n",
        "  df[\"sum\"] = df.sum(axis=1)\n",
        "  '''\n",
        "  df[\"Variance\"]=df.var(axis=1)\n",
        "  df[\"Mean\"]=df.mean(axis=1)\n",
        "  df[\"Median\"]=df.median(axis=1)\n",
        "  df[\"Std_Dev\"]=df.std(axis=1)\n",
        "  df[\"Skew\"]=df.skew(axis=1)\n",
        "  df[\"Kurt\"]=df.kurtosis(axis=1)\n",
        "  df[\"Max\"]=df.max(axis=1)\n",
        "  df[\"Min\"]=df.min(axis=1)\n",
        "  '''\n",
        "  df[\"Values\"]=df[df!=0].sum(axis=1)\n",
        "  df[\"Variance_NonZero\"]=df[df!=0].var(axis=1)\n",
        "  df[\"Mean_NonZero\"]=df[df!=0].mean(axis=1)\n",
        "  df[\"Median_NonZero\"]=df[df!=0].median(axis=1)\n",
        "  df[\"Std_Dev_NonZero\"]=df[df!=0].std(axis=1)\n",
        "  df[\"Skew_NonZero\"]=df[df!=0].skew(axis=1)\n",
        "  df[\"Kurt_NonZero\"]=df[df!=0].kurtosis(axis=1)\n",
        "  df[\"Max_NonZero\"]=df[df!=0].max(axis=1)\n",
        "  df[\"Min_NonZero\"]=df[df!=0].min(axis=1)\n",
        "\n",
        "  return df"
      ],
      "execution_count": 20,
      "outputs": []
    },
    {
      "cell_type": "code",
      "metadata": {
        "id": "WPIIFFNSxJhL"
      },
      "source": [
        "X = train[feat_final]\n",
        "#X = stat_cols(X)\n",
        "X = MinMaxScaler().fit_transform(X)\n",
        "X=csr_matrix(X)\n",
        "y=np.log1p(train.target)"
      ],
      "execution_count": 21,
      "outputs": []
    },
    {
      "cell_type": "code",
      "metadata": {
        "id": "MpE2kaAb8tIh"
      },
      "source": [
        "reg=LGBMRegressor(objective='regression_l2',n_jobs=-1,metric='rmsle',verbosity=-1,boosting='gbdt')\n",
        "params = {\n",
        "        'n_estimators': Integer(50, 100),  \n",
        "        'num_leaves':   Integer(5,100),     \n",
        "        'min_child_samples': Integer(1, 50), \n",
        "        'feature_fraction': Real(0.1, 0.8),\n",
        "        'max_depth' : Integer(1, 50),\n",
        "        'learning_rate': Real(0.01, 1.0, 'log-uniform'),\n",
        "        'reg_lambda': Real(1e-9, 1000, 'log-uniform'),\n",
        "        'scale_pos_weight': Real(1, 10),\n",
        "        'max_bin': Integer(100, 1000),        \n",
        "        'min_child_weight': Real(1, 10),      \n",
        "        'subsample_for_bin': Integer(100, 3000)  \n",
        "        }\n"
      ],
      "execution_count": 24,
      "outputs": []
    },
    {
      "cell_type": "code",
      "metadata": {
        "id": "wS7e8bQtWdZG"
      },
      "source": [
        "from sklearn.metrics import make_scorer\n",
        "def rmsle(y_true, y_pred):\n",
        "    return 'RMSLE', np.sqrt(np.mean(np.power((y_pred - y_true), 2))), False\n",
        "    \n",
        "def rmsle_score(y_true, y_pred):\n",
        "    return  np.sqrt(np.mean(np.power((y_pred - y_true), 2)))\n",
        "\n",
        "custom_rmsle = make_scorer(rmsle_score,greater_is_better=False)"
      ],
      "execution_count": 25,
      "outputs": []
    },
    {
      "cell_type": "code",
      "metadata": {
        "id": "RpFpsvM196By"
      },
      "source": [
        "bayes_cv_tuner = BayesSearchCV(\n",
        "                              estimator = reg,\n",
        "                              search_spaces = params,\n",
        "                              cv = 3,\n",
        "                              scoring = custom_rmsle,\n",
        "                              #n_jobs = 3,\n",
        "                              n_iter = 15,\n",
        "                              verbose = 1,\n",
        "                              random_state = 42\n",
        "                               )"
      ],
      "execution_count": 26,
      "outputs": []
    },
    {
      "cell_type": "code",
      "metadata": {
        "id": "iZGCXlX6le8r",
        "colab": {
          "base_uri": "https://localhost:8080/"
        },
        "outputId": "52f6dc9d-66ab-4a86-d568-67c0fef58b35"
      },
      "source": [
        "result= bayes_cv_tuner.fit(X,y)\n",
        "print(bayes_cv_tuner.best_params_)\n",
        "print(\"Best Score = \",np.round(bayes_cv_tuner.best_score_, 4))\n",
        "#pd.DataFrame(bayes_cv_tuner.cv_results_)\n",
        "bst_bayes = bayes_cv_tuner.best_estimator_\n",
        "bst_bayes"
      ],
      "execution_count": 27,
      "outputs": [
        {
          "output_type": "stream",
          "text": [
            "Fitting 3 folds for each of 1 candidates, totalling 3 fits\n",
            "[LightGBM] [Warning] boosting is set=gbdt, boosting_type=gbdt will be ignored. Current value: boosting=gbdt\n",
            "[LightGBM] [Warning] feature_fraction is set=0.38707277119731975, colsample_bytree=1.0 will be ignored. Current value: feature_fraction=0.38707277119731975\n"
          ],
          "name": "stdout"
        },
        {
          "output_type": "stream",
          "text": [
            "[Parallel(n_jobs=1)]: Using backend SequentialBackend with 1 concurrent workers.\n"
          ],
          "name": "stderr"
        },
        {
          "output_type": "stream",
          "text": [
            "[LightGBM] [Warning] boosting is set=gbdt, boosting_type=gbdt will be ignored. Current value: boosting=gbdt\n",
            "[LightGBM] [Warning] feature_fraction is set=0.38707277119731975, colsample_bytree=1.0 will be ignored. Current value: feature_fraction=0.38707277119731975\n",
            "[LightGBM] [Warning] boosting is set=gbdt, boosting_type=gbdt will be ignored. Current value: boosting=gbdt\n",
            "[LightGBM] [Warning] feature_fraction is set=0.38707277119731975, colsample_bytree=1.0 will be ignored. Current value: feature_fraction=0.38707277119731975\n"
          ],
          "name": "stdout"
        },
        {
          "output_type": "stream",
          "text": [
            "[Parallel(n_jobs=1)]: Done   3 out of   3 | elapsed:    0.7s finished\n",
            "[Parallel(n_jobs=1)]: Using backend SequentialBackend with 1 concurrent workers.\n"
          ],
          "name": "stderr"
        },
        {
          "output_type": "stream",
          "text": [
            "Fitting 3 folds for each of 1 candidates, totalling 3 fits\n",
            "[LightGBM] [Warning] boosting is set=gbdt, boosting_type=gbdt will be ignored. Current value: boosting=gbdt\n",
            "[LightGBM] [Warning] feature_fraction is set=0.6861718488872991, colsample_bytree=1.0 will be ignored. Current value: feature_fraction=0.6861718488872991\n",
            "[LightGBM] [Warning] boosting is set=gbdt, boosting_type=gbdt will be ignored. Current value: boosting=gbdt\n",
            "[LightGBM] [Warning] feature_fraction is set=0.6861718488872991, colsample_bytree=1.0 will be ignored. Current value: feature_fraction=0.6861718488872991\n",
            "[LightGBM] [Warning] boosting is set=gbdt, boosting_type=gbdt will be ignored. Current value: boosting=gbdt\n",
            "[LightGBM] [Warning] feature_fraction is set=0.6861718488872991, colsample_bytree=1.0 will be ignored. Current value: feature_fraction=0.6861718488872991\n"
          ],
          "name": "stdout"
        },
        {
          "output_type": "stream",
          "text": [
            "[Parallel(n_jobs=1)]: Done   3 out of   3 | elapsed:    0.7s finished\n",
            "[Parallel(n_jobs=1)]: Using backend SequentialBackend with 1 concurrent workers.\n"
          ],
          "name": "stderr"
        },
        {
          "output_type": "stream",
          "text": [
            "Fitting 3 folds for each of 1 candidates, totalling 3 fits\n",
            "[LightGBM] [Warning] boosting is set=gbdt, boosting_type=gbdt will be ignored. Current value: boosting=gbdt\n",
            "[LightGBM] [Warning] feature_fraction is set=0.4113827586108063, colsample_bytree=1.0 will be ignored. Current value: feature_fraction=0.4113827586108063\n",
            "[LightGBM] [Warning] boosting is set=gbdt, boosting_type=gbdt will be ignored. Current value: boosting=gbdt\n",
            "[LightGBM] [Warning] feature_fraction is set=0.4113827586108063, colsample_bytree=1.0 will be ignored. Current value: feature_fraction=0.4113827586108063\n",
            "[LightGBM] [Warning] boosting is set=gbdt, boosting_type=gbdt will be ignored. Current value: boosting=gbdt\n",
            "[LightGBM] [Warning] feature_fraction is set=0.4113827586108063, colsample_bytree=1.0 will be ignored. Current value: feature_fraction=0.4113827586108063\n"
          ],
          "name": "stdout"
        },
        {
          "output_type": "stream",
          "text": [
            "[Parallel(n_jobs=1)]: Done   3 out of   3 | elapsed:    1.3s finished\n",
            "[Parallel(n_jobs=1)]: Using backend SequentialBackend with 1 concurrent workers.\n"
          ],
          "name": "stderr"
        },
        {
          "output_type": "stream",
          "text": [
            "Fitting 3 folds for each of 1 candidates, totalling 3 fits\n",
            "[LightGBM] [Warning] boosting is set=gbdt, boosting_type=gbdt will be ignored. Current value: boosting=gbdt\n",
            "[LightGBM] [Warning] feature_fraction is set=0.6686771918501544, colsample_bytree=1.0 will be ignored. Current value: feature_fraction=0.6686771918501544\n",
            "[LightGBM] [Warning] boosting is set=gbdt, boosting_type=gbdt will be ignored. Current value: boosting=gbdt\n",
            "[LightGBM] [Warning] feature_fraction is set=0.6686771918501544, colsample_bytree=1.0 will be ignored. Current value: feature_fraction=0.6686771918501544\n",
            "[LightGBM] [Warning] boosting is set=gbdt, boosting_type=gbdt will be ignored. Current value: boosting=gbdt\n",
            "[LightGBM] [Warning] feature_fraction is set=0.6686771918501544, colsample_bytree=1.0 will be ignored. Current value: feature_fraction=0.6686771918501544\n"
          ],
          "name": "stdout"
        },
        {
          "output_type": "stream",
          "text": [
            "[Parallel(n_jobs=1)]: Done   3 out of   3 | elapsed:    0.8s finished\n",
            "[Parallel(n_jobs=1)]: Using backend SequentialBackend with 1 concurrent workers.\n"
          ],
          "name": "stderr"
        },
        {
          "output_type": "stream",
          "text": [
            "Fitting 3 folds for each of 1 candidates, totalling 3 fits\n",
            "[LightGBM] [Warning] boosting is set=gbdt, boosting_type=gbdt will be ignored. Current value: boosting=gbdt\n",
            "[LightGBM] [Warning] feature_fraction is set=0.6596874091250212, colsample_bytree=1.0 will be ignored. Current value: feature_fraction=0.6596874091250212\n",
            "[LightGBM] [Warning] boosting is set=gbdt, boosting_type=gbdt will be ignored. Current value: boosting=gbdt\n",
            "[LightGBM] [Warning] feature_fraction is set=0.6596874091250212, colsample_bytree=1.0 will be ignored. Current value: feature_fraction=0.6596874091250212\n",
            "[LightGBM] [Warning] boosting is set=gbdt, boosting_type=gbdt will be ignored. Current value: boosting=gbdt\n",
            "[LightGBM] [Warning] feature_fraction is set=0.6596874091250212, colsample_bytree=1.0 will be ignored. Current value: feature_fraction=0.6596874091250212\n"
          ],
          "name": "stdout"
        },
        {
          "output_type": "stream",
          "text": [
            "[Parallel(n_jobs=1)]: Done   3 out of   3 | elapsed:    0.8s finished\n",
            "[Parallel(n_jobs=1)]: Using backend SequentialBackend with 1 concurrent workers.\n"
          ],
          "name": "stderr"
        },
        {
          "output_type": "stream",
          "text": [
            "Fitting 3 folds for each of 1 candidates, totalling 3 fits\n",
            "[LightGBM] [Warning] boosting is set=gbdt, boosting_type=gbdt will be ignored. Current value: boosting=gbdt\n",
            "[LightGBM] [Warning] feature_fraction is set=0.6138196125898979, colsample_bytree=1.0 will be ignored. Current value: feature_fraction=0.6138196125898979\n",
            "[LightGBM] [Warning] boosting is set=gbdt, boosting_type=gbdt will be ignored. Current value: boosting=gbdt\n",
            "[LightGBM] [Warning] feature_fraction is set=0.6138196125898979, colsample_bytree=1.0 will be ignored. Current value: feature_fraction=0.6138196125898979\n",
            "[LightGBM] [Warning] boosting is set=gbdt, boosting_type=gbdt will be ignored. Current value: boosting=gbdt\n",
            "[LightGBM] [Warning] feature_fraction is set=0.6138196125898979, colsample_bytree=1.0 will be ignored. Current value: feature_fraction=0.6138196125898979\n"
          ],
          "name": "stdout"
        },
        {
          "output_type": "stream",
          "text": [
            "[Parallel(n_jobs=1)]: Done   3 out of   3 | elapsed:    0.7s finished\n",
            "[Parallel(n_jobs=1)]: Using backend SequentialBackend with 1 concurrent workers.\n"
          ],
          "name": "stderr"
        },
        {
          "output_type": "stream",
          "text": [
            "Fitting 3 folds for each of 1 candidates, totalling 3 fits\n",
            "[LightGBM] [Warning] boosting is set=gbdt, boosting_type=gbdt will be ignored. Current value: boosting=gbdt\n",
            "[LightGBM] [Warning] feature_fraction is set=0.5319555509516215, colsample_bytree=1.0 will be ignored. Current value: feature_fraction=0.5319555509516215\n",
            "[LightGBM] [Warning] boosting is set=gbdt, boosting_type=gbdt will be ignored. Current value: boosting=gbdt\n",
            "[LightGBM] [Warning] feature_fraction is set=0.5319555509516215, colsample_bytree=1.0 will be ignored. Current value: feature_fraction=0.5319555509516215\n",
            "[LightGBM] [Warning] boosting is set=gbdt, boosting_type=gbdt will be ignored. Current value: boosting=gbdt\n",
            "[LightGBM] [Warning] feature_fraction is set=0.5319555509516215, colsample_bytree=1.0 will be ignored. Current value: feature_fraction=0.5319555509516215\n"
          ],
          "name": "stdout"
        },
        {
          "output_type": "stream",
          "text": [
            "[Parallel(n_jobs=1)]: Done   3 out of   3 | elapsed:    1.6s finished\n",
            "[Parallel(n_jobs=1)]: Using backend SequentialBackend with 1 concurrent workers.\n"
          ],
          "name": "stderr"
        },
        {
          "output_type": "stream",
          "text": [
            "Fitting 3 folds for each of 1 candidates, totalling 3 fits\n",
            "[LightGBM] [Warning] boosting is set=gbdt, boosting_type=gbdt will be ignored. Current value: boosting=gbdt\n",
            "[LightGBM] [Warning] feature_fraction is set=0.4803821473832188, colsample_bytree=1.0 will be ignored. Current value: feature_fraction=0.4803821473832188\n",
            "[LightGBM] [Warning] boosting is set=gbdt, boosting_type=gbdt will be ignored. Current value: boosting=gbdt\n",
            "[LightGBM] [Warning] feature_fraction is set=0.4803821473832188, colsample_bytree=1.0 will be ignored. Current value: feature_fraction=0.4803821473832188\n",
            "[LightGBM] [Warning] boosting is set=gbdt, boosting_type=gbdt will be ignored. Current value: boosting=gbdt\n",
            "[LightGBM] [Warning] feature_fraction is set=0.4803821473832188, colsample_bytree=1.0 will be ignored. Current value: feature_fraction=0.4803821473832188\n",
            "Fitting 3 folds for each of 1 candidates, totalling 3 fits\n",
            "[LightGBM] [Warning] boosting is set=gbdt, boosting_type=gbdt will be ignored. Current value: boosting=gbdt\n",
            "[LightGBM] [Warning] feature_fraction is set=0.7688345904169499, colsample_bytree=1.0 will be ignored. Current value: feature_fraction=0.7688345904169499\n"
          ],
          "name": "stdout"
        },
        {
          "output_type": "stream",
          "text": [
            "[Parallel(n_jobs=1)]: Done   3 out of   3 | elapsed:    0.4s finished\n",
            "[Parallel(n_jobs=1)]: Using backend SequentialBackend with 1 concurrent workers.\n"
          ],
          "name": "stderr"
        },
        {
          "output_type": "stream",
          "text": [
            "[LightGBM] [Warning] boosting is set=gbdt, boosting_type=gbdt will be ignored. Current value: boosting=gbdt\n",
            "[LightGBM] [Warning] feature_fraction is set=0.7688345904169499, colsample_bytree=1.0 will be ignored. Current value: feature_fraction=0.7688345904169499\n",
            "[LightGBM] [Warning] boosting is set=gbdt, boosting_type=gbdt will be ignored. Current value: boosting=gbdt\n",
            "[LightGBM] [Warning] feature_fraction is set=0.7688345904169499, colsample_bytree=1.0 will be ignored. Current value: feature_fraction=0.7688345904169499\n"
          ],
          "name": "stdout"
        },
        {
          "output_type": "stream",
          "text": [
            "[Parallel(n_jobs=1)]: Done   3 out of   3 | elapsed:    0.8s finished\n"
          ],
          "name": "stderr"
        },
        {
          "output_type": "stream",
          "text": [
            "Fitting 3 folds for each of 1 candidates, totalling 3 fits\n",
            "[LightGBM] [Warning] boosting is set=gbdt, boosting_type=gbdt will be ignored. Current value: boosting=gbdt\n",
            "[LightGBM] [Warning] feature_fraction is set=0.10254121507832026, colsample_bytree=1.0 will be ignored. Current value: feature_fraction=0.10254121507832026\n",
            "[LightGBM] [Warning] boosting is set=gbdt, boosting_type=gbdt will be ignored. Current value: boosting=gbdt\n",
            "[LightGBM] [Warning] feature_fraction is set=0.10254121507832026, colsample_bytree=1.0 will be ignored. Current value: feature_fraction=0.10254121507832026\n"
          ],
          "name": "stdout"
        },
        {
          "output_type": "stream",
          "text": [
            "[Parallel(n_jobs=1)]: Using backend SequentialBackend with 1 concurrent workers.\n"
          ],
          "name": "stderr"
        },
        {
          "output_type": "stream",
          "text": [
            "[LightGBM] [Warning] boosting is set=gbdt, boosting_type=gbdt will be ignored. Current value: boosting=gbdt\n",
            "[LightGBM] [Warning] feature_fraction is set=0.10254121507832026, colsample_bytree=1.0 will be ignored. Current value: feature_fraction=0.10254121507832026\n"
          ],
          "name": "stdout"
        },
        {
          "output_type": "stream",
          "text": [
            "[Parallel(n_jobs=1)]: Done   3 out of   3 | elapsed:    0.3s finished\n"
          ],
          "name": "stderr"
        },
        {
          "output_type": "stream",
          "text": [
            "Fitting 3 folds for each of 1 candidates, totalling 3 fits\n",
            "[LightGBM] [Warning] boosting is set=gbdt, boosting_type=gbdt will be ignored. Current value: boosting=gbdt\n",
            "[LightGBM] [Warning] feature_fraction is set=0.7443750439049694, colsample_bytree=1.0 will be ignored. Current value: feature_fraction=0.7443750439049694\n",
            "[LightGBM] [Warning] boosting is set=gbdt, boosting_type=gbdt will be ignored. Current value: boosting=gbdt\n",
            "[LightGBM] [Warning] feature_fraction is set=0.7443750439049694, colsample_bytree=1.0 will be ignored. Current value: feature_fraction=0.7443750439049694\n",
            "[LightGBM] [Warning] boosting is set=gbdt, boosting_type=gbdt will be ignored. Current value: boosting=gbdt\n",
            "[LightGBM] [Warning] feature_fraction is set=0.7443750439049694, colsample_bytree=1.0 will be ignored. Current value: feature_fraction=0.7443750439049694\n"
          ],
          "name": "stdout"
        },
        {
          "output_type": "stream",
          "text": [
            "[Parallel(n_jobs=1)]: Using backend SequentialBackend with 1 concurrent workers.\n",
            "[Parallel(n_jobs=1)]: Done   3 out of   3 | elapsed:    0.1s finished\n"
          ],
          "name": "stderr"
        },
        {
          "output_type": "stream",
          "text": [
            "Fitting 3 folds for each of 1 candidates, totalling 3 fits\n",
            "[LightGBM] [Warning] boosting is set=gbdt, boosting_type=gbdt will be ignored. Current value: boosting=gbdt\n",
            "[LightGBM] [Warning] feature_fraction is set=0.8, colsample_bytree=1.0 will be ignored. Current value: feature_fraction=0.8\n",
            "[LightGBM] [Warning] boosting is set=gbdt, boosting_type=gbdt will be ignored. Current value: boosting=gbdt\n",
            "[LightGBM] [Warning] feature_fraction is set=0.8, colsample_bytree=1.0 will be ignored. Current value: feature_fraction=0.8\n"
          ],
          "name": "stdout"
        },
        {
          "output_type": "stream",
          "text": [
            "[Parallel(n_jobs=1)]: Using backend SequentialBackend with 1 concurrent workers.\n"
          ],
          "name": "stderr"
        },
        {
          "output_type": "stream",
          "text": [
            "[LightGBM] [Warning] boosting is set=gbdt, boosting_type=gbdt will be ignored. Current value: boosting=gbdt\n",
            "[LightGBM] [Warning] feature_fraction is set=0.8, colsample_bytree=1.0 will be ignored. Current value: feature_fraction=0.8\n"
          ],
          "name": "stdout"
        },
        {
          "output_type": "stream",
          "text": [
            "[Parallel(n_jobs=1)]: Done   3 out of   3 | elapsed:    0.4s finished\n"
          ],
          "name": "stderr"
        },
        {
          "output_type": "stream",
          "text": [
            "Fitting 3 folds for each of 1 candidates, totalling 3 fits\n",
            "[LightGBM] [Warning] boosting is set=gbdt, boosting_type=gbdt will be ignored. Current value: boosting=gbdt\n",
            "[LightGBM] [Warning] feature_fraction is set=0.1, colsample_bytree=1.0 will be ignored. Current value: feature_fraction=0.1\n",
            "[LightGBM] [Warning] boosting is set=gbdt, boosting_type=gbdt will be ignored. Current value: boosting=gbdt\n",
            "[LightGBM] [Warning] feature_fraction is set=0.1, colsample_bytree=1.0 will be ignored. Current value: feature_fraction=0.1\n",
            "[LightGBM] [Warning] boosting is set=gbdt, boosting_type=gbdt will be ignored. Current value: boosting=gbdt\n",
            "[LightGBM] [Warning] feature_fraction is set=0.1, colsample_bytree=1.0 will be ignored. Current value: feature_fraction=0.1\n"
          ],
          "name": "stdout"
        },
        {
          "output_type": "stream",
          "text": [
            "[Parallel(n_jobs=1)]: Using backend SequentialBackend with 1 concurrent workers.\n",
            "[Parallel(n_jobs=1)]: Done   3 out of   3 | elapsed:    0.3s finished\n"
          ],
          "name": "stderr"
        },
        {
          "output_type": "stream",
          "text": [
            "Fitting 3 folds for each of 1 candidates, totalling 3 fits\n",
            "[LightGBM] [Warning] boosting is set=gbdt, boosting_type=gbdt will be ignored. Current value: boosting=gbdt\n",
            "[LightGBM] [Warning] feature_fraction is set=0.1, colsample_bytree=1.0 will be ignored. Current value: feature_fraction=0.1\n",
            "[LightGBM] [Warning] boosting is set=gbdt, boosting_type=gbdt will be ignored. Current value: boosting=gbdt\n",
            "[LightGBM] [Warning] feature_fraction is set=0.1, colsample_bytree=1.0 will be ignored. Current value: feature_fraction=0.1\n"
          ],
          "name": "stdout"
        },
        {
          "output_type": "stream",
          "text": [
            "[Parallel(n_jobs=1)]: Using backend SequentialBackend with 1 concurrent workers.\n"
          ],
          "name": "stderr"
        },
        {
          "output_type": "stream",
          "text": [
            "[LightGBM] [Warning] boosting is set=gbdt, boosting_type=gbdt will be ignored. Current value: boosting=gbdt\n",
            "[LightGBM] [Warning] feature_fraction is set=0.1, colsample_bytree=1.0 will be ignored. Current value: feature_fraction=0.1\n"
          ],
          "name": "stdout"
        },
        {
          "output_type": "stream",
          "text": [
            "[Parallel(n_jobs=1)]: Done   3 out of   3 | elapsed:    0.5s finished\n"
          ],
          "name": "stderr"
        },
        {
          "output_type": "stream",
          "text": [
            "Fitting 3 folds for each of 1 candidates, totalling 3 fits\n",
            "[LightGBM] [Warning] boosting is set=gbdt, boosting_type=gbdt will be ignored. Current value: boosting=gbdt\n",
            "[LightGBM] [Warning] feature_fraction is set=0.10424206384677598, colsample_bytree=1.0 will be ignored. Current value: feature_fraction=0.10424206384677598\n",
            "[LightGBM] [Warning] boosting is set=gbdt, boosting_type=gbdt will be ignored. Current value: boosting=gbdt\n",
            "[LightGBM] [Warning] feature_fraction is set=0.10424206384677598, colsample_bytree=1.0 will be ignored. Current value: feature_fraction=0.10424206384677598\n"
          ],
          "name": "stdout"
        },
        {
          "output_type": "stream",
          "text": [
            "[Parallel(n_jobs=1)]: Using backend SequentialBackend with 1 concurrent workers.\n"
          ],
          "name": "stderr"
        },
        {
          "output_type": "stream",
          "text": [
            "[LightGBM] [Warning] boosting is set=gbdt, boosting_type=gbdt will be ignored. Current value: boosting=gbdt\n",
            "[LightGBM] [Warning] feature_fraction is set=0.10424206384677598, colsample_bytree=1.0 will be ignored. Current value: feature_fraction=0.10424206384677598\n"
          ],
          "name": "stdout"
        },
        {
          "output_type": "stream",
          "text": [
            "[Parallel(n_jobs=1)]: Done   3 out of   3 | elapsed:    0.4s finished\n"
          ],
          "name": "stderr"
        },
        {
          "output_type": "stream",
          "text": [
            "[LightGBM] [Warning] boosting is set=gbdt, boosting_type=gbdt will be ignored. Current value: boosting=gbdt\n",
            "[LightGBM] [Warning] feature_fraction is set=0.1, colsample_bytree=1.0 will be ignored. Current value: feature_fraction=0.1\n",
            "OrderedDict([('feature_fraction', 0.1), ('learning_rate', 0.10751053203260903), ('max_bin', 634), ('max_depth', 21), ('min_child_samples', 50), ('min_child_weight', 1.0), ('n_estimators', 100), ('num_leaves', 100), ('reg_lambda', 42.10605429311716), ('scale_pos_weight', 7.735846770006023), ('subsample_for_bin', 2784)])\n",
            "Best Score =  -1.4329\n"
          ],
          "name": "stdout"
        },
        {
          "output_type": "execute_result",
          "data": {
            "text/plain": [
              "LGBMRegressor(boosting='gbdt', feature_fraction=0.1,\n",
              "              learning_rate=0.10751053203260903, max_bin=634, max_depth=21,\n",
              "              metric='rmsle', min_child_samples=50, min_child_weight=1.0,\n",
              "              num_leaves=100, objective='regression_l2',\n",
              "              reg_lambda=42.10605429311716, scale_pos_weight=7.735846770006023,\n",
              "              subsample_for_bin=2784, verbosity=-1)"
            ]
          },
          "metadata": {
            "tags": []
          },
          "execution_count": 27
        }
      ]
    },
    {
      "cell_type": "code",
      "metadata": {
        "colab": {
          "base_uri": "https://localhost:8080/"
        },
        "id": "Jg-4QfMKE7dg",
        "outputId": "db6d6e46-826a-46f2-fc33-50fcb087fec9"
      },
      "source": [
        "rmsle(y,bst_bayes.predict(X))"
      ],
      "execution_count": 28,
      "outputs": [
        {
          "output_type": "execute_result",
          "data": {
            "text/plain": [
              "('RMSLE', 1.2248165280345806, False)"
            ]
          },
          "metadata": {
            "tags": []
          },
          "execution_count": 28
        }
      ]
    },
    {
      "cell_type": "code",
      "metadata": {
        "colab": {
          "base_uri": "https://localhost:8080/"
        },
        "id": "zcgpJBb3vuAB",
        "outputId": "ed71c2a9-29e3-493c-da22-d26e317bff36"
      },
      "source": [
        "mod1 = RidgeCV(cv=5)\n",
        "mod1.fit(X,y)"
      ],
      "execution_count": 85,
      "outputs": [
        {
          "output_type": "execute_result",
          "data": {
            "text/plain": [
              "RidgeCV(alphas=array([ 0.1,  1. , 10. ]), cv=5)"
            ]
          },
          "metadata": {
            "tags": []
          },
          "execution_count": 85
        }
      ]
    },
    {
      "cell_type": "code",
      "metadata": {
        "colab": {
          "base_uri": "https://localhost:8080/"
        },
        "id": "LJI8JWp6-5EV",
        "outputId": "5f964c50-4b44-44bb-f630-075e590185d4"
      },
      "source": [
        "rmsle(y,mod1.predict(X))"
      ],
      "execution_count": 88,
      "outputs": [
        {
          "output_type": "execute_result",
          "data": {
            "text/plain": [
              "('RMSLE', 0.11044296129829048, False)"
            ]
          },
          "metadata": {
            "tags": []
          },
          "execution_count": 88
        }
      ]
    },
    {
      "cell_type": "code",
      "metadata": {
        "id": "4JtoP5_7FGoi"
      },
      "source": [
        "train= pd.read_csv('/content/train.csv.zip')\n",
        "train.set_index('ID',inplace=True)"
      ],
      "execution_count": null,
      "outputs": []
    },
    {
      "cell_type": "code",
      "metadata": {
        "id": "LbhpwStNmZqS"
      },
      "source": [
        "!pip install scikit-optimize\n",
        "!pip install pymrmre"
      ],
      "execution_count": null,
      "outputs": []
    },
    {
      "cell_type": "code",
      "metadata": {
        "id": "do0wM4-x_lau"
      },
      "source": [
        "!pip install arfs==0.1"
      ],
      "execution_count": null,
      "outputs": []
    },
    {
      "cell_type": "code",
      "metadata": {
        "id": "QKa4MviiwLAH"
      },
      "source": [
        "!pip install scikit-learn==0.23.1"
      ],
      "execution_count": null,
      "outputs": []
    },
    {
      "cell_type": "code",
      "metadata": {
        "id": "n381x_GPG24r"
      },
      "source": [
        "!pip install Boruta"
      ],
      "execution_count": null,
      "outputs": []
    },
    {
      "cell_type": "code",
      "metadata": {
        "id": "wXkbcr5wG6cf"
      },
      "source": [
        ""
      ],
      "execution_count": null,
      "outputs": []
    }
  ]
}